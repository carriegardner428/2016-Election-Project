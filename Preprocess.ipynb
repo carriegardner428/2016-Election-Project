{
 "cells": [
  {
   "cell_type": "code",
   "execution_count": 2,
   "metadata": {
    "collapsed": false
   },
   "outputs": [
    {
     "data": {
      "text/html": [
       "<div>\n",
       "<table border=\"1\" class=\"dataframe\">\n",
       "  <thead>\n",
       "    <tr style=\"text-align: right;\">\n",
       "      <th></th>\n",
       "      <th>userID</th>\n",
       "      <th>text</th>\n",
       "      <th>created_at</th>\n",
       "      <th>favorite_count</th>\n",
       "      <th>followers_account</th>\n",
       "      <th>friends_count</th>\n",
       "      <th>location</th>\n",
       "    </tr>\n",
       "  </thead>\n",
       "  <tbody>\n",
       "    <tr>\n",
       "      <th>0</th>\n",
       "      <td>11344</td>\n",
       "      <td>Police start the presidential debate memes swi...</td>\n",
       "      <td>09/26/2016 21:00:00 EDT</td>\n",
       "      <td>1</td>\n",
       "      <td>123</td>\n",
       "      <td>96</td>\n",
       "      <td>East Point, GA</td>\n",
       "    </tr>\n",
       "    <tr>\n",
       "      <th>1</th>\n",
       "      <td>2061</td>\n",
       "      <td>RT @thereaIbanksy: become the most positive, e...</td>\n",
       "      <td>09/26/2016 21:00:03 EDT</td>\n",
       "      <td>481</td>\n",
       "      <td>116</td>\n",
       "      <td>244</td>\n",
       "      <td>Kansas City, MO USA</td>\n",
       "    </tr>\n",
       "    <tr>\n",
       "      <th>2</th>\n",
       "      <td>22644</td>\n",
       "      <td>This is gonna be a stressful ass week.</td>\n",
       "      <td>09/26/2016 21:00:03 EDT</td>\n",
       "      <td>9930</td>\n",
       "      <td>176</td>\n",
       "      <td>163</td>\n",
       "      <td>Dundee, Oregon</td>\n",
       "    </tr>\n",
       "    <tr>\n",
       "      <th>3</th>\n",
       "      <td>9694</td>\n",
       "      <td>RT @KevinBracken4: #serviceselfie #T2Trun NY M...</td>\n",
       "      <td>09/26/2016 21:00:12 EDT</td>\n",
       "      <td>8135</td>\n",
       "      <td>235</td>\n",
       "      <td>136</td>\n",
       "      <td>NY Metro</td>\n",
       "    </tr>\n",
       "    <tr>\n",
       "      <th>4</th>\n",
       "      <td>9087</td>\n",
       "      <td>RT @HillaryClinton: Let's do this. #DebateNigh...</td>\n",
       "      <td>09/26/2016 21:00:13 EDT</td>\n",
       "      <td>141</td>\n",
       "      <td>70</td>\n",
       "      <td>163</td>\n",
       "      <td>New York, NY</td>\n",
       "    </tr>\n",
       "  </tbody>\n",
       "</table>\n",
       "</div>"
      ],
      "text/plain": [
       "   userID                                               text  \\\n",
       "0   11344  Police start the presidential debate memes swi...   \n",
       "1    2061  RT @thereaIbanksy: become the most positive, e...   \n",
       "2   22644             This is gonna be a stressful ass week.   \n",
       "3    9694  RT @KevinBracken4: #serviceselfie #T2Trun NY M...   \n",
       "4    9087  RT @HillaryClinton: Let's do this. #DebateNigh...   \n",
       "\n",
       "                created_at  favorite_count  followers_account  friends_count  \\\n",
       "0  09/26/2016 21:00:00 EDT               1                123             96   \n",
       "1  09/26/2016 21:00:03 EDT             481                116            244   \n",
       "2  09/26/2016 21:00:03 EDT            9930                176            163   \n",
       "3  09/26/2016 21:00:12 EDT            8135                235            136   \n",
       "4  09/26/2016 21:00:13 EDT             141                 70            163   \n",
       "\n",
       "              location  \n",
       "0       East Point, GA  \n",
       "1  Kansas City, MO USA  \n",
       "2       Dundee, Oregon  \n",
       "3           NY Metro    \n",
       "4         New York, NY  "
      ]
     },
     "execution_count": 2,
     "metadata": {},
     "output_type": "execute_result"
    }
   ],
   "source": [
    "import pandas as pd\n",
    "import numpy as np\n",
    "\n",
    "# For counting number of instances\n",
    "from collections import Counter\n",
    "\n",
    "deb1 = pd.read_csv('tweets_debate1.csv')\n",
    "deb2 = pd.read_csv('tweets_debate2.csv')\n",
    "deb3 = pd.read_csv('tweets_debate3.csv')\n",
    "debvp = pd.read_csv('tweets_debateVP.csv')\n",
    "frames = [deb1, deb2, deb3, debvp]\n",
    "df = pd.concat(frames, ignore_index=True)\n",
    "\n",
    "df.head()"
   ]
  },
  {
   "cell_type": "code",
   "execution_count": 2,
   "metadata": {
    "collapsed": false
   },
   "outputs": [
    {
     "data": {
      "text/plain": [
       "(60378, 7)"
      ]
     },
     "execution_count": 2,
     "metadata": {},
     "output_type": "execute_result"
    }
   ],
   "source": [
    "df.shape"
   ]
  },
  {
   "cell_type": "markdown",
   "metadata": {},
   "source": [
    "# Aggregate Tweets by user"
   ]
  },
  {
   "cell_type": "code",
   "execution_count": 4,
   "metadata": {
    "collapsed": false
   },
   "outputs": [
    {
     "data": {
      "text/html": [
       "<div>\n",
       "<table border=\"1\" class=\"dataframe\">\n",
       "  <thead>\n",
       "    <tr style=\"text-align: right;\">\n",
       "      <th></th>\n",
       "      <th>userID</th>\n",
       "      <th>text</th>\n",
       "      <th>created_at</th>\n",
       "      <th>favorite_count</th>\n",
       "      <th>followers_account</th>\n",
       "      <th>friends_count</th>\n",
       "      <th>location</th>\n",
       "    </tr>\n",
       "  </thead>\n",
       "  <tbody>\n",
       "    <tr>\n",
       "      <th>0</th>\n",
       "      <td>11344</td>\n",
       "      <td>Police start the presidential debate memes swi...</td>\n",
       "      <td>09/26/2016 21:00:00 EDT</td>\n",
       "      <td>1</td>\n",
       "      <td>123</td>\n",
       "      <td>96</td>\n",
       "      <td>East Point, GA</td>\n",
       "    </tr>\n",
       "    <tr>\n",
       "      <th>1</th>\n",
       "      <td>2061</td>\n",
       "      <td>RT @thereaIbanksy: become the most positive, e...</td>\n",
       "      <td>09/26/2016 21:00:03 EDT</td>\n",
       "      <td>481</td>\n",
       "      <td>116</td>\n",
       "      <td>244</td>\n",
       "      <td>Kansas City, MO USA</td>\n",
       "    </tr>\n",
       "    <tr>\n",
       "      <th>2</th>\n",
       "      <td>22644</td>\n",
       "      <td>This is gonna be a stressful ass week.</td>\n",
       "      <td>09/26/2016 21:00:03 EDT</td>\n",
       "      <td>9930</td>\n",
       "      <td>176</td>\n",
       "      <td>163</td>\n",
       "      <td>Dundee, Oregon</td>\n",
       "    </tr>\n",
       "    <tr>\n",
       "      <th>3</th>\n",
       "      <td>9694</td>\n",
       "      <td>RT @KevinBracken4: #serviceselfie #T2Trun NY M...</td>\n",
       "      <td>09/26/2016 21:00:12 EDT</td>\n",
       "      <td>8135</td>\n",
       "      <td>235</td>\n",
       "      <td>136</td>\n",
       "      <td>NY Metro</td>\n",
       "    </tr>\n",
       "    <tr>\n",
       "      <th>4</th>\n",
       "      <td>9087</td>\n",
       "      <td>RT @HillaryClinton: Let's do this. #DebateNigh...</td>\n",
       "      <td>09/26/2016 21:00:13 EDT</td>\n",
       "      <td>141</td>\n",
       "      <td>70</td>\n",
       "      <td>163</td>\n",
       "      <td>New York, NY</td>\n",
       "    </tr>\n",
       "  </tbody>\n",
       "</table>\n",
       "</div>"
      ],
      "text/plain": [
       "   userID                                               text  \\\n",
       "0   11344  Police start the presidential debate memes swi...   \n",
       "1    2061  RT @thereaIbanksy: become the most positive, e...   \n",
       "2   22644             This is gonna be a stressful ass week.   \n",
       "3    9694  RT @KevinBracken4: #serviceselfie #T2Trun NY M...   \n",
       "4    9087  RT @HillaryClinton: Let's do this. #DebateNigh...   \n",
       "\n",
       "                created_at  favorite_count  followers_account  friends_count  \\\n",
       "0  09/26/2016 21:00:00 EDT               1                123             96   \n",
       "1  09/26/2016 21:00:03 EDT             481                116            244   \n",
       "2  09/26/2016 21:00:03 EDT            9930                176            163   \n",
       "3  09/26/2016 21:00:12 EDT            8135                235            136   \n",
       "4  09/26/2016 21:00:13 EDT             141                 70            163   \n",
       "\n",
       "              location  \n",
       "0       East Point, GA  \n",
       "1  Kansas City, MO USA  \n",
       "2       Dundee, Oregon  \n",
       "3           NY Metro    \n",
       "4         New York, NY  "
      ]
     },
     "execution_count": 4,
     "metadata": {},
     "output_type": "execute_result"
    }
   ],
   "source": [
    "df.groupby(['userID', 'text'])\n",
    "df.head(5)"
   ]
  },
  {
   "cell_type": "code",
   "execution_count": null,
   "metadata": {
    "collapsed": true
   },
   "outputs": [],
   "source": []
  },
  {
   "cell_type": "code",
   "execution_count": 5,
   "metadata": {
    "collapsed": false
   },
   "outputs": [],
   "source": [
    "tweets_by_user = df['text'].groupby(df['userID'])"
   ]
  },
  {
   "cell_type": "code",
   "execution_count": 6,
   "metadata": {
    "collapsed": false
   },
   "outputs": [
    {
     "data": {
      "text/plain": [
       "pandas.core.groupby.SeriesGroupBy"
      ]
     },
     "execution_count": 6,
     "metadata": {},
     "output_type": "execute_result"
    }
   ],
   "source": [
    "type(tweets_by_user)"
   ]
  },
  {
   "cell_type": "code",
   "execution_count": 7,
   "metadata": {
    "collapsed": false
   },
   "outputs": [
    {
     "data": {
      "text/plain": [
       "0        Police start the presidential debate memes swi...\n",
       "1        RT @thereaIbanksy: become the most positive, e...\n",
       "2                   This is gonna be a stressful ass week.\n",
       "3        RT @KevinBracken4: #serviceselfie #T2Trun NY M...\n",
       "4        RT @HillaryClinton: Let's do this. #DebateNigh...\n",
       "5        RT @hyperjeff: Why the Father of Modern Statis...\n",
       "6        Eckerd College Ending Some Programs in St. Pet...\n",
       "7        @Denver_dan @whizwhit @enjoyLaCroix this is em...\n",
       "8        Oooooooo, Mad Hatter is coming! So pumped #Gotham\n",
       "9        RT @WestPalmPD: Dive Team #Training. We get co...\n",
       "10       @OliviaKMaynard @AnneBevan1 An invasion of pri...\n",
       "11       RT @LemmaTony: Team HD will run T2T this am. T...\n",
       "12       Readying 4 the debate with @MaricopaCountyDemo...\n",
       "13       IN THIS CORNER… the repulsive mongoloid racist...\n",
       "14       Helicopter or Snow Plow? What kind of parent a...\n",
       "15          @BobRich04662764 Are you my friend \"stick\"????\n",
       "16       @mishacollins I'll be watching the debate! Goo...\n",
       "17       Cesaro and Sheamus in a tag team? I mean...\\r\\...\n",
       "18       General Grievous  #UnlikelyDebateGuests https:...\n",
       "19       @StillNotSam \"Well, I always thought that arch...\n",
       "20       RT @CloydRivers: As long as there’s breath in ...\n",
       "21       thank you youtube live for the debates - zero ...\n",
       "22       When real, unedited debate takes place, the le...\n",
       "23       A quick look back before we start — Republican...\n",
       "24       @sotnsot apple wireless keyboard. https://t.co...\n",
       "25       @the_explicator Challenges of grading gets in ...\n",
       "26       @briannanoellek dang it! Oct 13th? I'm a away ...\n",
       "27       RT @HouseofCards: There can be no false steps ...\n",
       "28       RT @VancityReynolds: Going to bed at 8:30pm is...\n",
       "29                 https://t.co/7t86p8ncvi it's happening!\n",
       "                               ...                        \n",
       "60273    Welcome to...Scottsdale, Arizona: If you're lo...\n",
       "60279         Free Market Analysis https://t.co/hYtRwBzEuC\n",
       "60280    RT @DaleJr: Gus fertilized the lawn @CLTMotorS...\n",
       "60284      @Tea_Moneyy the struggles of graduating soon 😵😵\n",
       "60285    My new sounds: AKG D12 https://t.co/hIJy5S62kZ...\n",
       "60286    @arielhelwani is Geddy Lee filling out his sco...\n",
       "60289    Obsessed with the satin bomber athleisure craz...\n",
       "60290    Obsessed with the satin bomber athleisure craz...\n",
       "60299    For when I am weak, then I am strong.  2 Corin...\n",
       "60301              RT @CoachMote5: https://t.co/nLX4epbdqJ\n",
       "60304                                @dj_Backpack Bro..!!!\n",
       "60306                       @j_sirilo12 besides you Sirilo\n",
       "60307    2 people unfollowed me // automatically checke...\n",
       "60308    RT @DHALab: #Concussions in Female High School...\n",
       "60313                              https://t.co/giu2l6zV9z\n",
       "60332    @allie_englanddd you are full of grace and mat...\n",
       "60335    RT @TexDolly: ok. I'll retweet some things for...\n",
       "60336    @Kayla_Kiger it's a cute pic Kayla. Would you ...\n",
       "60343    @Kayla_Kiger nothing but love Kayla, nothing b...\n",
       "60346                   @almeraza_ https://t.co/WShQIYXBCi\n",
       "60352    RT @profishanalgamr: This hoe really tried run...\n",
       "60356    @CurtMWeiler @TomahawkNation of the current to...\n",
       "60357    @CurtMWeiler @TomahawkNation Oklahoma has face...\n",
       "60358                            @KipMooreMusic She's Mine\n",
       "60362    RT @MikeDrucker: TIM KAINE: \"Okay, ha ha - don...\n",
       "60364    RT @que__baby: Desiigner just too retarded for...\n",
       "60367    RT @prettyliilly: i just wanna be as happy as ...\n",
       "60370    RT @WhoDat_Joness: You 1998 niggas doin do muc...\n",
       "60373    @Girthquake069 @footballnightsd I think the wh...\n",
       "60375    I missed Atlanta messing around wit these awar...\n",
       "Name: text, dtype: object"
      ]
     },
     "execution_count": 7,
     "metadata": {},
     "output_type": "execute_result"
    }
   ],
   "source": [
    "tweets_by_user.head(5)"
   ]
  },
  {
   "cell_type": "code",
   "execution_count": 8,
   "metadata": {
    "collapsed": false
   },
   "outputs": [
    {
     "data": {
      "text/plain": [
       "userID                int64\n",
       "text                 object\n",
       "created_at           object\n",
       "favorite_count        int64\n",
       "followers_account     int64\n",
       "friends_count         int64\n",
       "location             object\n",
       "dtype: object"
      ]
     },
     "execution_count": 8,
     "metadata": {},
     "output_type": "execute_result"
    }
   ],
   "source": [
    "df.dtypes"
   ]
  },
  {
   "cell_type": "code",
   "execution_count": 9,
   "metadata": {
    "collapsed": true
   },
   "outputs": [],
   "source": [
    "df['created_at'] = pd.to_datetime(df['created_at'])"
   ]
  },
  {
   "cell_type": "code",
   "execution_count": 10,
   "metadata": {
    "collapsed": true
   },
   "outputs": [],
   "source": [
    "RT = []\n",
    "for t in df.text:\n",
    "    RT.append(t.split()[0]=='RT')\n",
    "df['RT'] = RT"
   ]
  },
  {
   "cell_type": "code",
   "execution_count": 11,
   "metadata": {
    "collapsed": false
   },
   "outputs": [
    {
     "data": {
      "text/html": [
       "<div>\n",
       "<table border=\"1\" class=\"dataframe\">\n",
       "  <thead>\n",
       "    <tr style=\"text-align: right;\">\n",
       "      <th></th>\n",
       "      <th>userID</th>\n",
       "      <th>text</th>\n",
       "      <th>created_at</th>\n",
       "      <th>favorite_count</th>\n",
       "      <th>followers_account</th>\n",
       "      <th>friends_count</th>\n",
       "      <th>location</th>\n",
       "      <th>RT</th>\n",
       "    </tr>\n",
       "  </thead>\n",
       "  <tbody>\n",
       "    <tr>\n",
       "      <th>0</th>\n",
       "      <td>11344</td>\n",
       "      <td>Police start the presidential debate memes swi...</td>\n",
       "      <td>2016-09-27 01:00:00</td>\n",
       "      <td>1</td>\n",
       "      <td>123</td>\n",
       "      <td>96</td>\n",
       "      <td>East Point, GA</td>\n",
       "      <td>False</td>\n",
       "    </tr>\n",
       "    <tr>\n",
       "      <th>1</th>\n",
       "      <td>2061</td>\n",
       "      <td>RT @thereaIbanksy: become the most positive, e...</td>\n",
       "      <td>2016-09-27 01:00:03</td>\n",
       "      <td>481</td>\n",
       "      <td>116</td>\n",
       "      <td>244</td>\n",
       "      <td>Kansas City, MO USA</td>\n",
       "      <td>True</td>\n",
       "    </tr>\n",
       "    <tr>\n",
       "      <th>2</th>\n",
       "      <td>22644</td>\n",
       "      <td>This is gonna be a stressful ass week.</td>\n",
       "      <td>2016-09-27 01:00:03</td>\n",
       "      <td>9930</td>\n",
       "      <td>176</td>\n",
       "      <td>163</td>\n",
       "      <td>Dundee, Oregon</td>\n",
       "      <td>False</td>\n",
       "    </tr>\n",
       "    <tr>\n",
       "      <th>3</th>\n",
       "      <td>9694</td>\n",
       "      <td>RT @KevinBracken4: #serviceselfie #T2Trun NY M...</td>\n",
       "      <td>2016-09-27 01:00:12</td>\n",
       "      <td>8135</td>\n",
       "      <td>235</td>\n",
       "      <td>136</td>\n",
       "      <td>NY Metro</td>\n",
       "      <td>True</td>\n",
       "    </tr>\n",
       "    <tr>\n",
       "      <th>4</th>\n",
       "      <td>9087</td>\n",
       "      <td>RT @HillaryClinton: Let's do this. #DebateNigh...</td>\n",
       "      <td>2016-09-27 01:00:13</td>\n",
       "      <td>141</td>\n",
       "      <td>70</td>\n",
       "      <td>163</td>\n",
       "      <td>New York, NY</td>\n",
       "      <td>True</td>\n",
       "    </tr>\n",
       "  </tbody>\n",
       "</table>\n",
       "</div>"
      ],
      "text/plain": [
       "   userID                                               text  \\\n",
       "0   11344  Police start the presidential debate memes swi...   \n",
       "1    2061  RT @thereaIbanksy: become the most positive, e...   \n",
       "2   22644             This is gonna be a stressful ass week.   \n",
       "3    9694  RT @KevinBracken4: #serviceselfie #T2Trun NY M...   \n",
       "4    9087  RT @HillaryClinton: Let's do this. #DebateNigh...   \n",
       "\n",
       "           created_at  favorite_count  followers_account  friends_count  \\\n",
       "0 2016-09-27 01:00:00               1                123             96   \n",
       "1 2016-09-27 01:00:03             481                116            244   \n",
       "2 2016-09-27 01:00:03            9930                176            163   \n",
       "3 2016-09-27 01:00:12            8135                235            136   \n",
       "4 2016-09-27 01:00:13             141                 70            163   \n",
       "\n",
       "              location     RT  \n",
       "0       East Point, GA  False  \n",
       "1  Kansas City, MO USA   True  \n",
       "2       Dundee, Oregon  False  \n",
       "3           NY Metro     True  \n",
       "4         New York, NY   True  "
      ]
     },
     "execution_count": 11,
     "metadata": {},
     "output_type": "execute_result"
    }
   ],
   "source": [
    "df.head(5)"
   ]
  },
  {
   "cell_type": "code",
   "execution_count": 12,
   "metadata": {
    "collapsed": false
   },
   "outputs": [
    {
     "data": {
      "text/plain": [
       "userID                        int64\n",
       "text                         object\n",
       "created_at           datetime64[ns]\n",
       "favorite_count                int64\n",
       "followers_account             int64\n",
       "friends_count                 int64\n",
       "location                     object\n",
       "RT                             bool\n",
       "dtype: object"
      ]
     },
     "execution_count": 12,
     "metadata": {},
     "output_type": "execute_result"
    }
   ],
   "source": [
    "df.dtypes"
   ]
  },
  {
   "cell_type": "code",
   "execution_count": 13,
   "metadata": {
    "collapsed": false
   },
   "outputs": [
    {
     "data": {
      "text/html": [
       "<div>\n",
       "<table border=\"1\" class=\"dataframe\">\n",
       "  <thead>\n",
       "    <tr style=\"text-align: right;\">\n",
       "      <th></th>\n",
       "      <th>userID</th>\n",
       "      <th>favorite_count</th>\n",
       "      <th>followers_account</th>\n",
       "      <th>friends_count</th>\n",
       "    </tr>\n",
       "  </thead>\n",
       "  <tbody>\n",
       "    <tr>\n",
       "      <th>count</th>\n",
       "      <td>60378.000000</td>\n",
       "      <td>60378.000000</td>\n",
       "      <td>60378.000000</td>\n",
       "      <td>60378.000000</td>\n",
       "    </tr>\n",
       "    <tr>\n",
       "      <th>mean</th>\n",
       "      <td>11516.136838</td>\n",
       "      <td>7317.397280</td>\n",
       "      <td>2651.535576</td>\n",
       "      <td>1688.215310</td>\n",
       "    </tr>\n",
       "    <tr>\n",
       "      <th>std</th>\n",
       "      <td>6724.801878</td>\n",
       "      <td>25786.687507</td>\n",
       "      <td>13697.959984</td>\n",
       "      <td>11074.939779</td>\n",
       "    </tr>\n",
       "    <tr>\n",
       "      <th>min</th>\n",
       "      <td>6.000000</td>\n",
       "      <td>0.000000</td>\n",
       "      <td>1.000000</td>\n",
       "      <td>2.000000</td>\n",
       "    </tr>\n",
       "    <tr>\n",
       "      <th>25%</th>\n",
       "      <td>5526.000000</td>\n",
       "      <td>312.000000</td>\n",
       "      <td>204.000000</td>\n",
       "      <td>274.000000</td>\n",
       "    </tr>\n",
       "    <tr>\n",
       "      <th>50%</th>\n",
       "      <td>11505.000000</td>\n",
       "      <td>1348.000000</td>\n",
       "      <td>444.000000</td>\n",
       "      <td>535.000000</td>\n",
       "    </tr>\n",
       "    <tr>\n",
       "      <th>75%</th>\n",
       "      <td>17527.000000</td>\n",
       "      <td>4612.000000</td>\n",
       "      <td>1164.000000</td>\n",
       "      <td>1070.000000</td>\n",
       "    </tr>\n",
       "    <tr>\n",
       "      <th>max</th>\n",
       "      <td>22853.000000</td>\n",
       "      <td>310812.000000</td>\n",
       "      <td>197614.000000</td>\n",
       "      <td>172076.000000</td>\n",
       "    </tr>\n",
       "  </tbody>\n",
       "</table>\n",
       "</div>"
      ],
      "text/plain": [
       "             userID  favorite_count  followers_account  friends_count\n",
       "count  60378.000000    60378.000000       60378.000000   60378.000000\n",
       "mean   11516.136838     7317.397280        2651.535576    1688.215310\n",
       "std     6724.801878    25786.687507       13697.959984   11074.939779\n",
       "min        6.000000        0.000000           1.000000       2.000000\n",
       "25%     5526.000000      312.000000         204.000000     274.000000\n",
       "50%    11505.000000     1348.000000         444.000000     535.000000\n",
       "75%    17527.000000     4612.000000        1164.000000    1070.000000\n",
       "max    22853.000000   310812.000000      197614.000000  172076.000000"
      ]
     },
     "execution_count": 13,
     "metadata": {},
     "output_type": "execute_result"
    }
   ],
   "source": [
    "df.describe()"
   ]
  },
  {
   "cell_type": "code",
   "execution_count": 14,
   "metadata": {
    "collapsed": false
   },
   "outputs": [],
   "source": [
    "unique_users = np.unique(df.userID)\n",
    "all_users = {'influence': {user: 0 for user in unique_users},\n",
    "             'count': dict(Counter(df.userID))}"
   ]
  },
  {
   "cell_type": "code",
   "execution_count": 26,
   "metadata": {
    "collapsed": false
   },
   "outputs": [
    {
     "data": {
      "text/plain": [
       "3137"
      ]
     },
     "execution_count": 26,
     "metadata": {},
     "output_type": "execute_result"
    }
   ],
   "source": [
    "len(unique_users)"
   ]
  },
  {
   "cell_type": "code",
   "execution_count": 29,
   "metadata": {
    "collapsed": false
   },
   "outputs": [],
   "source": [
    "for user, L, R in zip(df.userID,\n",
    "                      df.favorite_count,\n",
    "                      df.followers_account):\n",
    "    all_users['influence'][user] += (L + R)"
   ]
  },
  {
   "cell_type": "code",
   "execution_count": 30,
   "metadata": {
    "collapsed": false
   },
   "outputs": [],
   "source": [
    "all_users['ratio'] = {user: all_users['influence'][user]/all_users['count'][user] for user in unique_users}"
   ]
  },
  {
   "cell_type": "code",
   "execution_count": 31,
   "metadata": {
    "collapsed": false
   },
   "outputs": [],
   "source": [
    "# For sorting lists of tuples\n",
    "import operator\n",
    "\n",
    "sorted_users = {}\n",
    "for key in all_users.keys():\n",
    "    sorted_users[key] = sorted(all_users[key].items(), key=operator.itemgetter(1))[::-1]"
   ]
  },
  {
   "cell_type": "code",
   "execution_count": 32,
   "metadata": {
    "collapsed": false
   },
   "outputs": [
    {
     "name": "stdout",
     "output_type": "stream",
     "text": [
      "influence\n",
      "(3137, 2)\n",
      "count\n",
      "(3137, 2)\n",
      "ratio\n",
      "(3137, 2)\n"
     ]
    }
   ],
   "source": [
    "for key in sorted_users.keys():\n",
    "    print(key)\n",
    "    print(np.array(sorted_users[key]).shape)"
   ]
  },
  {
   "cell_type": "code",
   "execution_count": 33,
   "metadata": {
    "collapsed": false
   },
   "outputs": [
    {
     "data": {
      "image/png": "[encoded data removed]",
      "text/plain": [
       "<matplotlib.figure.Figure at 0x115334390>"
      ]
     },
     "metadata": {},
     "output_type": "display_data"
    }
   ],
   "source": [
    "import seaborn as sns\n",
    "import matplotlib.pyplot as plt\n",
    "import matplotlib as mpl\n",
    "\n",
    "%matplotlib inline\n",
    "\n",
    "fig = plt.figure(figsize=(12, 8))\n",
    "\n",
    "N = 25 # len(sorted_users['count'])\n",
    "\n",
    "c1 = sns.color_palette(\"OrRd\", N)\n",
    "c2 = sns.color_palette(\"PuBu\", N)\n",
    "c3 = sns.color_palette(\"YlGn\", N)\n",
    "\n",
    "\n",
    "\n",
    "\n",
    "ax = plt.subplot(131, projection='polar')\n",
    "x = np.linspace(0, 2*np.pi, N+1)[:-1]\n",
    "y = [sorted_users['count'][i][1] for i in range(N)]\n",
    "#y = np.log(y)\n",
    "ax.bar(x, y, width=2*np.pi/N, color=c1[::-1], linewidth=0)\n",
    "\n",
    "xtks = np.linspace(0, 2*np.pi, 8)\n",
    "ax.set_xticks(xtks)\n",
    "ax.set_xticklabels([str(round(y[int(x/np.pi/2*N)], -1)) for x in xtks[:-1]])\n",
    "#ax.set_xticklabels([str(round(np.exp(y[int(x/np.pi/2*N)]), 0)) for x in xtks[:-1]])\n",
    "ax.set_yticklabels([])\n",
    "ax.set_ylim(-max(y)/2, max(y)*1.05)\n",
    "ax.set_title('Tweets', y=1.08, fontsize=14)\n",
    "\n",
    "\n",
    "\n",
    "\n",
    "ax = plt.subplot(132, projection='polar')\n",
    "x = np.linspace(0, 2*np.pi, N+1)[:-1]\n",
    "y = [sorted_users['influence'][i][1] for i in range(N)]\n",
    "#y = np.log(y)\n",
    "ax.bar(x, y, width=2*np.pi/N, color=c2[::-1], linewidth=0)\n",
    "\n",
    "xtks = np.linspace(0, 2*np.pi, 8)\n",
    "ax.set_xticks(xtks)\n",
    "ax.set_xticklabels([str(round(y[int(x/np.pi/2*N)], -2)) for x in xtks[:-1]])\n",
    "#ax.set_xticklabels([str(round(np.exp(y[int(x/np.pi/2*N)]), 0)) for x in xtks[:-1]])\n",
    "ax.set_yticklabels([])\n",
    "ax.set_ylim(-max(y)/2, max(y)*1.05)\n",
    "ax.set_title('Favorites + Followers', y=1.08, fontsize=14)\n",
    "\n",
    "\n",
    "\n",
    "\n",
    "ax = plt.subplot(133, projection='polar')\n",
    "x = np.linspace(0, 2*np.pi, N+1)[:-1]\n",
    "y = [sorted_users['ratio'][i][1] for i in range(N)]\n",
    "#y = np.log(y)\n",
    "ax.bar(x, y, width=2*np.pi/N, color=c3[::-1], linewidth=0)\n",
    "\n",
    "xtks = np.linspace(0, 2*np.pi, 8)\n",
    "ax.set_xticks(xtks)\n",
    "ax.set_xticklabels([str(int(round(y[int(x/np.pi/2*N)], -1))) for x in xtks[:-1]])\n",
    "#ax.set_xticklabels([str(round(np.exp(y[int(x/np.pi/2*N)]), 0)) for x in xtks[:-1]])\n",
    "ax.set_yticklabels([])\n",
    "ax.set_ylim(-max(y)/2, max(y)*1.05)\n",
    "ax.set_title('Ratio', y=1.08, fontsize=14)\n",
    "\n",
    "\n",
    "\n",
    "\n",
    "plt.tight_layout()\n",
    "plt.suptitle('Top Twitter Accounts', y=0.82, fontsize=18)\n",
    "plt.show()"
   ]
  },
  {
   "cell_type": "code",
   "execution_count": 34,
   "metadata": {
    "collapsed": false
   },
   "outputs": [
    {
     "data": {
      "image/png": "[encoded data removed]",
      "text/plain": [
       "<matplotlib.figure.Figure at 0x118751eb8>"
      ]
     },
     "metadata": {},
     "output_type": "display_data"
    }
   ],
   "source": [
    "fig = plt.figure(figsize=(10, 12))\n",
    "\n",
    "N = 10\n",
    "\n",
    "c1 = sns.color_palette(\"OrRd\", N)\n",
    "c2 = sns.color_palette(\"PuBu\", N)\n",
    "c3 = sns.color_palette(\"YlGn\", N)\n",
    "\n",
    "ax = plt.subplot(131)\n",
    "x = np.arange(0, 10, 1)\n",
    "y = [sorted_users['count'][i][1] for i in range(10)]\n",
    "ax.barh(x, y, color=c1[::-1])\n",
    "ax.set_title('Tweets', y=1.01)\n",
    "ax.set_yticks(x+0.4)\n",
    "ax.set_yticklabels([sorted_users['count'][i][0] for i in range(10)])\n",
    "ax.set_ylim(-0.2, 10)\n",
    "ax.set_xticks([y[0], y[9]])\n",
    "ax.set_xticklabels([y[0], y[9]])\n",
    "plt.setp(ax.get_yticklines(), visible=False)\n",
    "\n",
    "ax = plt.subplot(132)\n",
    "x = np.arange(0, 10, 1)\n",
    "y = [sorted_users['influence'][i][1] for i in range(10)]\n",
    "ax.barh(x, y, color=c2[::-1])\n",
    "ax.set_title('Favorites + Retweets', y=1.01)\n",
    "ax.set_yticks(x+0.4)\n",
    "ax.set_yticklabels([sorted_users['influence'][i][0] for i in range(10)])\n",
    "ax.set_ylim(-0.2, 10)\n",
    "ax.set_xticks([y[0], y[9]])\n",
    "ax.set_xticklabels([y[0], y[9]])\n",
    "plt.setp(ax.get_yticklines(), visible=False)\n",
    "\n",
    "ax = plt.subplot(133)\n",
    "x = np.arange(0, 10, 1)\n",
    "y = [sorted_users['ratio'][i][1] for i in range(10)]\n",
    "ax.barh(x, y, color=c3[::-1])\n",
    "ax.set_title('Ratio', y=1.01)\n",
    "ax.set_yticks(x+0.4)\n",
    "ax.set_yticklabels([sorted_users['ratio'][i][0] for i in range(10)])\n",
    "ax.set_ylim(-0.2, 10)\n",
    "ax.set_xticks([y[0], y[9]])\n",
    "ax.set_xticklabels([y[0], y[9]])\n",
    "plt.setp(ax.get_yticklines(), visible=False)\n",
    "\n",
    "plt.subplots_adjust(wspace=1.0)\n",
    "\n",
    "plt.show()"
   ]
  },
  {
   "cell_type": "code",
   "execution_count": 35,
   "metadata": {
    "collapsed": false
   },
   "outputs": [
    {
     "data": {
      "image/png": "[encoded data removed]",
      "text/plain": [
       "<matplotlib.figure.Figure at 0x118e534a8>"
      ]
     },
     "metadata": {},
     "output_type": "display_data"
    }
   ],
   "source": [
    "fig = plt.figure(figsize=(10, 12))\n",
    "\n",
    "N = 10\n",
    "\n",
    "c1 = sns.color_palette(\"OrRd\", N)\n",
    "c2 = sns.color_palette(\"PuBu\", N)\n",
    "c3 = sns.color_palette(\"YlGn\", N)\n",
    "\n",
    "ax = fig.add_subplot(111)\n",
    "x = np.arange(0, 10, 1)\n",
    "y = [sorted_users['count'][i][1] for i in range(10)]\n",
    "ax.barh(x, y, color=c1[::-1])\n",
    "ax.set_title('', y=1.01)\n",
    "ax.set_yticks(x+0.4)\n",
    "ax.set_yticklabels([user for user in [sorted_users['count'][i][0] for i in range(10)]])\n",
    "ax.set_ylim(-0.2, 10)\n",
    "ax.set_xticks([y[0], y[9]])\n",
    "ax.set_xticklabels([y[0], y[9]])\n",
    "plt.setp(ax.get_yticklines(), visible=False)\n",
    "\n",
    "ax.set_title('',\n",
    "             style='italic', y=1.01, fontsize=10)\n",
    "plt.suptitle('                                                           Top 10 Influencers', y=0.945, fontsize=15)\n",
    "\n",
    "plt.subplots_adjust(wspace=1.0)\n",
    "\n",
    "plt.show()"
   ]
  },
  {
   "cell_type": "code",
   "execution_count": 36,
   "metadata": {
    "collapsed": true
   },
   "outputs": [],
   "source": [
    "def readInData(filename):\n",
    "    #read in files and remove missing values\n",
    "    ds = pandas.read_csv(filename) \n",
    "    ds = ds[ds.AirTemp != 'M']\n",
    "    #set index to date\n",
    "    ds['Date'] = pandas.to_datetime(ds.Date, yearfirst=True, errors='coerce')\n",
    "    ds.Date = pandas.DatetimeIndex(ds.Date)\n",
    "    ds.index = ds.Date\n",
    "    #group by time (so group readings by time of day of reading, i.e. all readings at midnight)\n",
    "    dg = ds.groupby(ds.index.time)\n",
    "\n",
    "    #initialize the final dataframe\n",
    "    df = pandas.DataFrame()\n",
    "    for name, group in dg: #for each group\n",
    "        #each group is a dateframe\n",
    "        try:\n",
    "            #set unique column names except for date\n",
    "            group.columns = ['Date', 'WaterTemp'+str(name), 'Discharge'+str(name), 'AirTemp'+str(name), 'Precip'+str(name)]\n",
    "            #ensure date is the index            \n",
    "            group.index = group.Date\n",
    "            #remove time from index\n",
    "            group.index = group.index.normalize()\n",
    "            #join based on date\n",
    "            df = pandas.concat([df, group], axis=1)\n",
    "        except: #if the try catch block isn't here, throws errors! (three for my dataset?)\n",
    "            pass\n",
    "    #remove duplicate date columns\n",
    "    df = df.loc[:,~df.columns.duplicated()]\n",
    "    #since date is index, drop the first date column\n",
    "    df = df.drop('Date', 1)\n",
    "    #return the dataset\n",
    "    return df"
   ]
  },
  {
   "cell_type": "code",
   "execution_count": 37,
   "metadata": {
    "collapsed": false
   },
   "outputs": [
    {
     "data": {
      "text/html": [
       "<div>\n",
       "<table border=\"1\" class=\"dataframe\">\n",
       "  <thead>\n",
       "    <tr style=\"text-align: right;\">\n",
       "      <th></th>\n",
       "      <th>userID</th>\n",
       "      <th>text</th>\n",
       "      <th>created_at</th>\n",
       "      <th>favorite_count</th>\n",
       "      <th>followers_account</th>\n",
       "      <th>friends_count</th>\n",
       "      <th>location</th>\n",
       "      <th>RT</th>\n",
       "    </tr>\n",
       "  </thead>\n",
       "  <tbody>\n",
       "    <tr>\n",
       "      <th>0</th>\n",
       "      <td>11344</td>\n",
       "      <td>Police start the presidential debate memes swi...</td>\n",
       "      <td>2016-09-27 01:00:00</td>\n",
       "      <td>1</td>\n",
       "      <td>123</td>\n",
       "      <td>96</td>\n",
       "      <td>East Point, GA</td>\n",
       "      <td>False</td>\n",
       "    </tr>\n",
       "    <tr>\n",
       "      <th>1</th>\n",
       "      <td>2061</td>\n",
       "      <td>RT @thereaIbanksy: become the most positive, e...</td>\n",
       "      <td>2016-09-27 01:00:03</td>\n",
       "      <td>481</td>\n",
       "      <td>116</td>\n",
       "      <td>244</td>\n",
       "      <td>Kansas City, MO USA</td>\n",
       "      <td>True</td>\n",
       "    </tr>\n",
       "    <tr>\n",
       "      <th>2</th>\n",
       "      <td>22644</td>\n",
       "      <td>This is gonna be a stressful ass week.</td>\n",
       "      <td>2016-09-27 01:00:03</td>\n",
       "      <td>9930</td>\n",
       "      <td>176</td>\n",
       "      <td>163</td>\n",
       "      <td>Dundee, Oregon</td>\n",
       "      <td>False</td>\n",
       "    </tr>\n",
       "    <tr>\n",
       "      <th>3</th>\n",
       "      <td>9694</td>\n",
       "      <td>RT @KevinBracken4: #serviceselfie #T2Trun NY M...</td>\n",
       "      <td>2016-09-27 01:00:12</td>\n",
       "      <td>8135</td>\n",
       "      <td>235</td>\n",
       "      <td>136</td>\n",
       "      <td>NY Metro</td>\n",
       "      <td>True</td>\n",
       "    </tr>\n",
       "    <tr>\n",
       "      <th>4</th>\n",
       "      <td>9087</td>\n",
       "      <td>RT @HillaryClinton: Let's do this. #DebateNigh...</td>\n",
       "      <td>2016-09-27 01:00:13</td>\n",
       "      <td>141</td>\n",
       "      <td>70</td>\n",
       "      <td>163</td>\n",
       "      <td>New York, NY</td>\n",
       "      <td>True</td>\n",
       "    </tr>\n",
       "  </tbody>\n",
       "</table>\n",
       "</div>"
      ],
      "text/plain": [
       "   userID                                               text  \\\n",
       "0   11344  Police start the presidential debate memes swi...   \n",
       "1    2061  RT @thereaIbanksy: become the most positive, e...   \n",
       "2   22644             This is gonna be a stressful ass week.   \n",
       "3    9694  RT @KevinBracken4: #serviceselfie #T2Trun NY M...   \n",
       "4    9087  RT @HillaryClinton: Let's do this. #DebateNigh...   \n",
       "\n",
       "           created_at  favorite_count  followers_account  friends_count  \\\n",
       "0 2016-09-27 01:00:00               1                123             96   \n",
       "1 2016-09-27 01:00:03             481                116            244   \n",
       "2 2016-09-27 01:00:03            9930                176            163   \n",
       "3 2016-09-27 01:00:12            8135                235            136   \n",
       "4 2016-09-27 01:00:13             141                 70            163   \n",
       "\n",
       "              location     RT  \n",
       "0       East Point, GA  False  \n",
       "1  Kansas City, MO USA   True  \n",
       "2       Dundee, Oregon  False  \n",
       "3           NY Metro     True  \n",
       "4         New York, NY   True  "
      ]
     },
     "execution_count": 37,
     "metadata": {},
     "output_type": "execute_result"
    }
   ],
   "source": [
    "df.head(5)"
   ]
  },
  {
   "cell_type": "code",
   "execution_count": 16,
   "metadata": {
    "collapsed": false
   },
   "outputs": [],
   "source": [
    "tweets_by_user = df.groupby('userID')['text'].apply(lambda x: x.sum())"
   ]
  },
  {
   "cell_type": "code",
   "execution_count": 17,
   "metadata": {
    "collapsed": false
   },
   "outputs": [
    {
     "data": {
      "text/plain": [
       "pandas.core.series.Series"
      ]
     },
     "execution_count": 17,
     "metadata": {},
     "output_type": "execute_result"
    }
   ],
   "source": [
    "type(tweets_by_user)"
   ]
  },
  {
   "cell_type": "code",
   "execution_count": 22,
   "metadata": {
    "collapsed": false
   },
   "outputs": [],
   "source": [
    "row1 = tweets_by_user[0:1]"
   ]
  },
  {
   "cell_type": "code",
   "execution_count": 23,
   "metadata": {
    "collapsed": false
   },
   "outputs": [
    {
     "data": {
      "text/plain": [
       "userID\n",
       "6    There is one on my train too. https://t.co/CuI...\n",
       "Name: text, dtype: object"
      ]
     },
     "execution_count": 23,
     "metadata": {},
     "output_type": "execute_result"
    }
   ],
   "source": [
    "row1"
   ]
  },
  {
   "cell_type": "code",
   "execution_count": 24,
   "metadata": {
    "collapsed": false
   },
   "outputs": [
    {
     "data": {
      "text/plain": [
       "userID\n",
       "6     There is one on my train too. https://t.co/CuI...\n",
       "9     RT @LiveFreedomOrDi: The \"life of the mother\" ...\n",
       "11    Broken toes and fracture .... https://t.co/C35...\n",
       "27    @jrlikeswhisky Its been a tough one no doubt.....\n",
       "51    RT @WIRED: Fact check: Saying \"how stupid is o...\n",
       "Name: text, dtype: object"
      ]
     },
     "execution_count": 24,
     "metadata": {},
     "output_type": "execute_result"
    }
   ],
   "source": [
    "tweets_by_user[0:5]"
   ]
  },
  {
   "cell_type": "code",
   "execution_count": 25,
   "metadata": {
    "collapsed": false
   },
   "outputs": [
    {
     "data": {
      "text/plain": [
       "(3137,)"
      ]
     },
     "execution_count": 25,
     "metadata": {},
     "output_type": "execute_result"
    }
   ],
   "source": [
    "tweets_by_user.shape"
   ]
  },
  {
   "cell_type": "code",
   "execution_count": 39,
   "metadata": {
    "collapsed": true
   },
   "outputs": [],
   "source": [
    "output_file = \"tweets_by_user.csv\"\n",
    "tweets_by_user.to_csv(output_file, header=\"'userID', 'text'\")"
   ]
  },
  {
   "cell_type": "code",
   "execution_count": 43,
   "metadata": {
    "collapsed": false
   },
   "outputs": [
    {
     "data": {
      "text/html": [
       "<div>\n",
       "<table border=\"1\" class=\"dataframe\">\n",
       "  <thead>\n",
       "    <tr style=\"text-align: right;\">\n",
       "      <th></th>\n",
       "      <th>text</th>\n",
       "    </tr>\n",
       "    <tr>\n",
       "      <th>userID</th>\n",
       "      <th></th>\n",
       "    </tr>\n",
       "  </thead>\n",
       "  <tbody>\n",
       "    <tr>\n",
       "      <th>6</th>\n",
       "      <td>There is one on my train too. https://t.co/CuI...</td>\n",
       "    </tr>\n",
       "    <tr>\n",
       "      <th>9</th>\n",
       "      <td>RT @LiveFreedomOrDi: The \"life of the mother\" ...</td>\n",
       "    </tr>\n",
       "    <tr>\n",
       "      <th>11</th>\n",
       "      <td>Broken toes and fracture .... https://t.co/C35...</td>\n",
       "    </tr>\n",
       "    <tr>\n",
       "      <th>27</th>\n",
       "      <td>@jrlikeswhisky Its been a tough one no doubt.....</td>\n",
       "    </tr>\n",
       "    <tr>\n",
       "      <th>51</th>\n",
       "      <td>RT @WIRED: Fact check: Saying \"how stupid is o...</td>\n",
       "    </tr>\n",
       "  </tbody>\n",
       "</table>\n",
       "</div>"
      ],
      "text/plain": [
       "                                                     text\n",
       "userID                                                   \n",
       "6       There is one on my train too. https://t.co/CuI...\n",
       "9       RT @LiveFreedomOrDi: The \"life of the mother\" ...\n",
       "11      Broken toes and fracture .... https://t.co/C35...\n",
       "27      @jrlikeswhisky Its been a tough one no doubt.....\n",
       "51      RT @WIRED: Fact check: Saying \"how stupid is o..."
      ]
     },
     "execution_count": 43,
     "metadata": {},
     "output_type": "execute_result"
    }
   ],
   "source": [
    "df2 = tweets_by_user.to_frame()\n",
    "df2.head(5)"
   ]
  },
  {
   "cell_type": "code",
   "execution_count": 44,
   "metadata": {
    "collapsed": false
   },
   "outputs": [
    {
     "name": "stderr",
     "output_type": "stream",
     "text": [
      "/Users/carrie/anaconda/lib/python3.5/site-packages/xlsxwriter/worksheet.py:829: UserWarning: Ignoring URL 'https://t.co/2DGeqmWEPjDid%20Trump%20just%20say%20illegal%20immigrants%20are%20carrying%20guns%20and%20kiling%20people!?%20WOW!%20' with link or location/anchor > 255 characters since it exceeds Excel's limit for URLS\n",
      "  force_unicode(url))\n",
      "/Users/carrie/anaconda/lib/python3.5/site-packages/xlsxwriter/worksheet.py:829: UserWarning: Ignoring URL 'https://t.co/cOOyWm7qPu...%20This%20is%20real?%20' with link or location/anchor > 255 characters since it exceeds Excel's limit for URLS\n",
      "  force_unicode(url))\n",
      "/Users/carrie/anaconda/lib/python3.5/site-packages/xlsxwriter/worksheet.py:829: UserWarning: Ignoring URL 'https://t.co/JG7V4KqnjZhttps://t.co/4b6qjEpNeBhttps://t.co/t6u4HP9q8Xhttps://t.co/tkHQ7kF3pQhttps://t.co/tkHQ7kF3pQhttps://t.co/t6u4HP9q8Xhttps://t.co/4b6qjEpNeBhttps://t.co/JG7V4KqnjZRegister%20to%20vote%20today!%20https://t.co/hlZOdPxNXqhttps://t.co/U1PDnOSsm5https://t.co/sCc3Oo5HVKhttps://t.co/gP3Jf9dTwOhttps://t.co/hlkfpWY549https://t.co/hlkfpWY549https://t.co/gP3Jf9dTwOhttps://t.co/sCc3Oo5HVKhttps://t.co/U1PDnOSsm5Register%20to%20vote%20today!%20https://t.co/hlZOdPxNXqI%20posted%20a%20new%20video%20to%20Facebook%20https://t.co/XXYRLVbZSq' with link or location/anchor > 255 characters since it exceeds Excel's limit for URLS\n",
      "  force_unicode(url))\n",
      "/Users/carrie/anaconda/lib/python3.5/site-packages/xlsxwriter/worksheet.py:829: UserWarning: Ignoring URL 'https://t.co/Ql1W7Re9dzhttps://t.co/Ql1W7Re9dzI%20just%20earned%20the%20'I%20Believe%20in%20IPA!%20%20(Level%2028)'%20badge%20on%20@untappd!%20https://t.co/45yYbQEcC6Drinking%20a%20Lone%20Comet%20by%20@OdellBrewing%20@%20Mayfair%20St%20—%20https://t.co/4lan9M0cnbDrinking%20a%20Lone%20Comet%20by%20@OdellBrewing%20@%20Mayfair%20St%20—%20https://t.co/4lan9M0cnbI%20just%20earned%20the%20'I%20Believe%20in%20IPA!%20%20(Level%2028)'%20badge%20on%20@untappd!%20https://t.co/45yYbQEcC6' with link or location/anchor > 255 characters since it exceeds Excel's limit for URLS\n",
      "  force_unicode(url))\n",
      "/Users/carrie/anaconda/lib/python3.5/site-packages/xlsxwriter/worksheet.py:829: UserWarning: Ignoring URL 'https://t.co/PRn3u9Lx7kTrump%20just%20can%20not%20help%20to%20be%20a%20jack%20assTrump%20just%20can%20not%20help%20to%20be%20a%20jack%20asshttps://t.co/PRn3u9Lx7k%22Wrong,%20Wrong,%20Wrong....%22%20How%20many%20times%20he%20said%20that?%22Wrong,%20Wrong,%20Wrong....%22%20How%20many%20times%20he%20said%20that?' with link or location/anchor > 255 characters since it exceeds Excel's limit for URLS\n",
      "  force_unicode(url))\n",
      "/Users/carrie/anaconda/lib/python3.5/site-packages/xlsxwriter/worksheet.py:829: UserWarning: Ignoring URL 'https://t.co/rilLfKmeOZ%20' with link or location/anchor > 255 characters since it exceeds Excel's limit for URLS\n",
      "  force_unicode(url))\n",
      "/Users/carrie/anaconda/lib/python3.5/site-packages/xlsxwriter/worksheet.py:829: UserWarning: Ignoring URL 'https://t.co/yenwiqX02XRT%20@QueMonroe:%20Now%20I%20really%20don't%20know%20what%20God%20has%20in%20store%20for%20me%20but%20whatever%20it%20is%20I%20won't%20block%20it%20✨☺️@NatashaMosley%20your%20song%20Anything%20got%20me%20in%20trouble%20lol%20but%20i%20love%20itRT%20@Clown_Sightings:%20The%20media%20won't%20show%20you%20this%20side%20of%20clowns%20https://t.co/71z2oPifui' with link or location/anchor > 255 characters since it exceeds Excel's limit for URLS\n",
      "  force_unicode(url))\n",
      "/Users/carrie/anaconda/lib/python3.5/site-packages/xlsxwriter/worksheet.py:829: UserWarning: Ignoring URL 'https://t.co/qC24NS1tlS@cfoley270%20tweet%20was%20deleted%20but%20I%20gotcha%20xoxo%20https://t.co/OkwZ9uZojxHey%20world%20@VillanovaGOP%20feels%20threatened%20by%20actual%20ideas%20so%20they%20went%20after%20a%20presidential%20candidate's%20looks%20and%20th…%20https://t.co/frnu5WYM71Hey%20world%20@VillanovaGOP%20feels%20threatened%20by%20actual%20ideas%20so%20they%20went%20after%20a%20presidential%20candidate's%20looks%20and%20th…%20https://t.co/frnu5WYM71@cfoley270%20tweet%20was%20deleted%20but%20I%20gotcha%20xoxo%20https://t.co/OkwZ9uZojx' with link or location/anchor > 255 characters since it exceeds Excel's limit for URLS\n",
      "  force_unicode(url))\n",
      "/Users/carrie/anaconda/lib/python3.5/site-packages/xlsxwriter/worksheet.py:829: UserWarning: Ignoring URL 'https://t.co/yRgV1APaoFThe%20Musicians%20Behind%20one%20of%20the%20Most%20Sampled%20Songs%20in%20History%20Finally%20Got%20Paid%20https://t.co/N4YO3SM3OqThe%20Musicians%20Behind%20one%20of%20the%20Most%20Sampled%20Songs%20in%20History%20Finally%20Got%20Paid%20https://t.co/N4YO3SM3Oqhttps://t.co/yRgV1APaoF' with link or location/anchor > 255 characters since it exceeds Excel's limit for URLS\n",
      "  force_unicode(url))\n",
      "/Users/carrie/anaconda/lib/python3.5/site-packages/xlsxwriter/worksheet.py:829: UserWarning: Ignoring URL 'https://t.co/7t86p8ncvi%20it's%20happening!RT%20@HillaryClinton:%20So%20much%20is%20at%20stake%20this%20election.%20Now’s%20the%20time%20to%20show%20what%20side%20you’re%20on.%20Add%20your%20name%20if%20you’re%20with%20Hillary.%20ht…RT%20@dccc:%20Make%20sure%20EVERYONE%20knows%20you're%20not%20with%20Trump.%20Sign%20and%20RT:%20https://t.co/8UKNpDfT1L%20%20' with link or location/anchor > 255 characters since it exceeds Excel's limit for URLS\n",
      "  force_unicode(url))\n",
      "/Users/carrie/anaconda/lib/python3.5/site-packages/xlsxwriter/worksheet.py:829: UserWarning: Ignoring URL 'https://t.co/HNKaFYxxCHhttps://t.co/HNKaFYxxCHBlakely's%20prayers:%20%22Dear%20God,%20I%20hope%20you%20had%20a%20great%20day%20and%20thank%20you%20for%20the%20happiness%22.%20She%20is%20literally%20the%20sweetest%20thing%20in%20the%20world.Blakely's%20prayers:%20%22Dear%20God,%20I%20hope%20you%20had%20a%20great%20day%20and%20thank%20you%20for%20the%20happiness%22.%20She%20is%20literally%20the%20sweetest%20thing%20in%20the%20world.' with link or location/anchor > 255 characters since it exceeds Excel's limit for URLS\n",
      "  force_unicode(url))\n",
      "/Users/carrie/anaconda/lib/python3.5/site-packages/xlsxwriter/worksheet.py:829: UserWarning: Ignoring URL 'https://t.co/nCnw8Zs4DmNotice%20the%20%22Greatest%20Country%20in%20the%20World%22%20didn't%20get%20near%20the%20top.%20And%20the%20study%20was%20put%20out%20by%20TWO%20US...%20https://t.co/gG9DFoS8KZI%20never%20get%20tired%20of%20watching/listening%20to%20this%20video.%20This%20man%20just%20rocks!!!%20https://t.co/ba4N7o5Vv0I%20never%20get%20tired%20of%20watching/listening%20to%20this%20video.%20This%20man%20just%20rocks!!!%20https://t.co/ba4N7o5Vv0Notice%20the%20%22Greatest%20Country%20in%20the%20World%22%20didn't%20get%20near%20the%20top.%20And%20the%20study%20was%20put%20out%20by%20TWO%20US...%20https://t.co/gG9DFoS8KZhttps://t.co/nCnw8Zs4Dmhttps://t.co/azqVC06C66If%20this%20is%20true,%20the%20answer%20is%20a%20big%20fat%20NO!%20If%20we%20seniors%20can't%20get%20an%20annual%20cost%20of%20living%20increase%20he%20can...%20https://t.co/W4eMustFyjhttps://t.co/feDvmNbSFzTo%20hell%20with%20the%20doom%20and%20gloom%20for%20a%20while.%20Watch%20this.%20https://t.co/sTElSl7v4FAll%20the%20time%20https://t.co/8N14x5G0bxhttps://t.co/8cDpSdT1nFIt's%20been%20a%20few%20years,%20but%20I%20remember%20a%20few%20of%20these%20gals!%20Stick%20around%20gals,%20your%20day%20will%20come.%20https://t.co/ILwpI7HF9tSo%20sad,%20if%20true!%20https://t.co/vVMa6C5K5Bhttps://t.co/gpIaiKtnQvI'm%20not%20for%20either%20Trump%20or%20Hillary.%20But%20I%20this%20is%20important%20information.%20https://t.co/51gAzUjSE4https://t.co/X4ACQgE1MwHey%20Estee%20Yeo-Almasin!%20A%20minion%20graphic%20for%20both%20of%20us!!!!%20https://t.co/JLmufDVuEjYup!%20https://t.co/itlnmM8qXKNo%20wonder%20I'm%20a%20hugger!%20https://t.co/Wun8JLbyBJ' with link or location/anchor > 255 characters since it exceeds Excel's limit for URLS\n",
      "  force_unicode(url))\n",
      "/Users/carrie/anaconda/lib/python3.5/site-packages/xlsxwriter/worksheet.py:829: UserWarning: Ignoring URL 'https://t.co/pUZ6BSTlQQ%20https://t.co/wGe5nH5wyYhttps://t.co/2IBGGHYbGIhttps://t.co/98XOTG6PAahttps://t.co/KHnPtK7CGchttps://t.co/KHnPtK7CGchttps://t.co/98XOTG6PAahttps://t.co/2IBGGHYbGIhttps://t.co/pUZ6BSTlQQ%20https://t.co/wGe5nH5wyYhttps://t.co/SCSkgqzCNwhttps://t.co/SCSkgqzCNw' with link or location/anchor > 255 characters since it exceeds Excel's limit for URLS\n",
      "  force_unicode(url))\n",
      "/Users/carrie/anaconda/lib/python3.5/site-packages/xlsxwriter/worksheet.py:829: UserWarning: Ignoring URL 'https://t.co/yOEwSomrcylol%20freaking%20celebrities%20live%20in%20la%20la%20land%20https://t.co/n0atMKtwkKlol%20freaking%20celebrities%20live%20in%20la%20la%20land%20https://t.co/n0atMKtwkKhttps://t.co/yOEwSomrcyOK%20I%20don't%20know%20why%20anybody%20would%20watch%20this%20debate???%20\r\n",
      "\r\n",
      "This%20guy%20is%20a%20freaking%20idiot...%20Kaine%20\r\n",
      "\r\n",
      "You%20could%20ask...%20https://t.co/0Iwy95LfKXhttps://t.co/pEZpHluitDhttps://t.co/ZQEg5aB6wj' with link or location/anchor > 255 characters since it exceeds Excel's limit for URLS\n",
      "  force_unicode(url))\n",
      "/Users/carrie/anaconda/lib/python3.5/site-packages/xlsxwriter/worksheet.py:829: UserWarning: Ignoring URL 'https://t.co/SkjWo1UIJzRT%20@realDonaldTrump:%20The%20concept%20of%20global%20warming%20was%20created%20by%20and%20for%20the%20Chinese%20in%20order%20to%20make%20U.S.%20manufacturing%20non-competitive.RT%20@PolitiFact:%20Trump%20said%20he%20was%20%22totally%20against%20the%20war%20in%20Iraq.%22%20False.%20https://t.co/5hMEI7irPg%20https://t.co/hjjiV5XRm6RT%20@PolitiFact:%20Trump%20said%20he%20was%20%22totally%20against%20the%20war%20in%20Iraq.%22%20False.%20https://t.co/5hMEI7irPg%20https://t.co/hjjiV5XRm6RT%20@realDonaldTrump:%20The%20concept%20of%20global%20warming%20was%20created%20by%20and%20for%20the%20Chinese%20in%20order%20to%20make%20U.S.%20manufacturing%20non-competitive.https://t.co/SkjWo1UIJzRT%20@chucktodd:%20After%20a%20clever%20Lincoln%20retort,%20Trump%20took%20Clinton's%20bait%20and%20went%20down%20the%20Russia%20and%20tax%20rabbit%20holes.%20%20Forgot%20to%20stay%20on%20%22…RT%20@JoyAnnReid:%20Clinton's%20praise%20of%20George%20W.%20Bush%20seems%20smart%20in%20this%20answer.%20' with link or location/anchor > 255 characters since it exceeds Excel's limit for URLS\n",
      "  force_unicode(url))\n",
      "/Users/carrie/anaconda/lib/python3.5/site-packages/xlsxwriter/worksheet.py:829: UserWarning: Ignoring URL 'https://t.co/viYL8AThOpRT%20@WorIdStarLaugh:%20Bill%205%20seconds%20from%20swinging%20on%20Donald%20' with link or location/anchor > 255 characters since it exceeds Excel's limit for URLS\n",
      "  force_unicode(url))\n",
      "/Users/carrie/anaconda/lib/python3.5/site-packages/xlsxwriter/worksheet.py:829: UserWarning: Ignoring URL 'https://t.co/LBTp81VxLSBraggadocios!Wait%20did%20Trump%20basically%20just%20admit%20that%20he%20hasn't%20paid%20income%20tax?Wait%20did%20Trump%20basically%20just%20admit%20that%20he%20hasn't%20paid%20income%20tax?https://t.co/LBTp81VxLSDoes%20he%20not%20understand%20how%20the%20Senate%20works?RT%20@shansquared:%20Anderson%20Cooper%20and%20Martha%20Raddatz,%202020?Martha%20Raddatz%20should%20moderate%20every%20debate%20in%20every%20presidential%20election%20moving%20forwardWas%20there%20a%20handshake?Trump%20has%20poor%20posture@joshuaahealy%20@arubenfire%20always%20important%20to%20bring%20hand%20sanitizerCan%20Anderson%20or%20Martha%20give%20Trump%20some%20Afrin?%20https://t.co/w848K5qnQqTrump%20is%20not%20capable%20of%20standing%20stillFact%20check:%20Lincoln%20was%20in%20fact%20a%20good%20movie.Trump%20just%20now:%20%22Hillary,%20I%20served%20with%20Abe%20Lincoln.%20I%20knew%20Abe%20Lincoln.%20Abe%20Lincoln%20was%20a%20friend%20of%20mine.%20Hillary,%20you're%20no%20Abe%20Lincoln%22Martha%20Raddatz%20should%20moderate%20every%20debate%20in%20every%20presidential%20election%20moving%20forwardRT%20@shansquared:%20Anderson%20Cooper%20and%20Martha%20Raddatz,%202020?Does%20he%20not%20understand%20how%20the%20Senate%20works?Trump%20just%20now:%20%22Hillary,%20I%20served%20with%20Abe%20Lincoln.%20I%20knew%20Abe%20Lincoln.%20Abe%20Lincoln%20was%20a%20friend%20of%20mine.%20Hillary,%20you're%20no%20Abe%20Lincoln%22Fact%20check:%20Lincoln%20was%20in%20fact%20a%20good%20movie.Trump%20is%20not%20capable%20of%20standing%20stillCan%20Anderson%20or%20Martha%20give%20Trump%20some%20Afrin?%20https://t.co/w848K5qnQq@joshuaahealy%20@arubenfire%20always%20important%20to%20bring%20hand%20sanitizerTrump%20has%20poor%20postureWas%20there%20a%20handshake?' with link or location/anchor > 255 characters since it exceeds Excel's limit for URLS\n",
      "  force_unicode(url))\n"
     ]
    }
   ],
   "source": [
    "output_file = \"tweets_by_user_excel.xlsx\"\n",
    "df2.to_excel(output_file, header=\"'userID', 'text'\")"
   ]
  },
  {
   "cell_type": "code",
   "execution_count": 19,
   "metadata": {
    "collapsed": false
   },
   "outputs": [
    {
     "data": {
      "text/plain": [
       "3361"
      ]
     },
     "execution_count": 19,
     "metadata": {},
     "output_type": "execute_result"
    }
   ],
   "source": [
    "cols = ['handle', 'text', 'fav', 'location']\n",
    "poli_tweets = pd.read_csv('output.csv', usecols=cols)\n",
    "len(poli_tweets)"
   ]
  },
  {
   "cell_type": "code",
   "execution_count": 20,
   "metadata": {
    "collapsed": false
   },
   "outputs": [
    {
     "data": {
      "text/html": [
       "<div>\n",
       "<table border=\"1\" class=\"dataframe\">\n",
       "  <thead>\n",
       "    <tr style=\"text-align: right;\">\n",
       "      <th></th>\n",
       "      <th>handle</th>\n",
       "      <th>text</th>\n",
       "      <th>fav</th>\n",
       "      <th>location</th>\n",
       "    </tr>\n",
       "  </thead>\n",
       "  <tbody>\n",
       "    <tr>\n",
       "      <th>0</th>\n",
       "      <td>@RealDonaldTrump</td>\n",
       "      <td>'General Kelly is doing a great job at the bor...</td>\n",
       "      <td>86087</td>\n",
       "      <td>None</td>\n",
       "    </tr>\n",
       "    <tr>\n",
       "      <th>1</th>\n",
       "      <td>@RealDonaldTrump</td>\n",
       "      <td>'Democrats are smiling in D.C. that the Freedo...</td>\n",
       "      <td>57682</td>\n",
       "      <td>None</td>\n",
       "    </tr>\n",
       "    <tr>\n",
       "      <th>2</th>\n",
       "      <td>@RealDonaldTrump</td>\n",
       "      <td>'Thanks you for all of the Trump Rallies today...</td>\n",
       "      <td>110030</td>\n",
       "      <td>None</td>\n",
       "    </tr>\n",
       "    <tr>\n",
       "      <th>3</th>\n",
       "      <td>@RealDonaldTrump</td>\n",
       "      <td>'Watch @JudgeJeanine on @FoxNews tonight at 9:...</td>\n",
       "      <td>47659</td>\n",
       "      <td>None</td>\n",
       "    </tr>\n",
       "    <tr>\n",
       "      <th>4</th>\n",
       "      <td>@RealDonaldTrump</td>\n",
       "      <td>'ObamaCare will explode and we will all get to...</td>\n",
       "      <td>98910</td>\n",
       "      <td>None</td>\n",
       "    </tr>\n",
       "    <tr>\n",
       "      <th>5</th>\n",
       "      <td>@RealDonaldTrump</td>\n",
       "      <td>'Happy #MedalOfHonorDay to our heroes! \\\\u27a1...</td>\n",
       "      <td>63726</td>\n",
       "      <td>None</td>\n",
       "    </tr>\n",
       "    <tr>\n",
       "      <th>6</th>\n",
       "      <td>@RealDonaldTrump</td>\n",
       "      <td>'Today, I was thrilled to announce a commitmen...</td>\n",
       "      <td>85464</td>\n",
       "      <td>None</td>\n",
       "    </tr>\n",
       "    <tr>\n",
       "      <th>7</th>\n",
       "      <td>@RealDonaldTrump</td>\n",
       "      <td>'Today, I was pleased to announce the official...</td>\n",
       "      <td>63885</td>\n",
       "      <td>None</td>\n",
       "    </tr>\n",
       "    <tr>\n",
       "      <th>8</th>\n",
       "      <td>@RealDonaldTrump</td>\n",
       "      <td>'The irony is that the Freedom Caucus, which i...</td>\n",
       "      <td>59729</td>\n",
       "      <td>None</td>\n",
       "    </tr>\n",
       "    <tr>\n",
       "      <th>9</th>\n",
       "      <td>@RealDonaldTrump</td>\n",
       "      <td>'After seven horrible years of ObamaCare (skyr...</td>\n",
       "      <td>66039</td>\n",
       "      <td>None</td>\n",
       "    </tr>\n",
       "    <tr>\n",
       "      <th>10</th>\n",
       "      <td>@RealDonaldTrump</td>\n",
       "      <td>'It was an honor to welcome so many truckers a...</td>\n",
       "      <td>75951</td>\n",
       "      <td>None</td>\n",
       "    </tr>\n",
       "    <tr>\n",
       "      <th>11</th>\n",
       "      <td>@RealDonaldTrump</td>\n",
       "      <td>'We are taking action to #RepealANDReplace #Ob...</td>\n",
       "      <td>39760</td>\n",
       "      <td>None</td>\n",
       "    </tr>\n",
       "    <tr>\n",
       "      <th>12</th>\n",
       "      <td>@RealDonaldTrump</td>\n",
       "      <td>'A great American, Kurt Cochran, was killed in...</td>\n",
       "      <td>115745</td>\n",
       "      <td>None</td>\n",
       "    </tr>\n",
       "    <tr>\n",
       "      <th>13</th>\n",
       "      <td>@RealDonaldTrump</td>\n",
       "      <td>'Just watched the totally biased and fake news...</td>\n",
       "      <td>93772</td>\n",
       "      <td>None</td>\n",
       "    </tr>\n",
       "    <tr>\n",
       "      <th>14</th>\n",
       "      <td>@RealDonaldTrump</td>\n",
       "      <td>'Spoke to U.K. Prime Minister Theresa May toda...</td>\n",
       "      <td>117267</td>\n",
       "      <td>None</td>\n",
       "    </tr>\n",
       "  </tbody>\n",
       "</table>\n",
       "</div>"
      ],
      "text/plain": [
       "              handle                                               text  \\\n",
       "0   @RealDonaldTrump  'General Kelly is doing a great job at the bor...   \n",
       "1   @RealDonaldTrump  'Democrats are smiling in D.C. that the Freedo...   \n",
       "2   @RealDonaldTrump  'Thanks you for all of the Trump Rallies today...   \n",
       "3   @RealDonaldTrump  'Watch @JudgeJeanine on @FoxNews tonight at 9:...   \n",
       "4   @RealDonaldTrump  'ObamaCare will explode and we will all get to...   \n",
       "5   @RealDonaldTrump  'Happy #MedalOfHonorDay to our heroes! \\\\u27a1...   \n",
       "6   @RealDonaldTrump  'Today, I was thrilled to announce a commitmen...   \n",
       "7   @RealDonaldTrump  'Today, I was pleased to announce the official...   \n",
       "8   @RealDonaldTrump  'The irony is that the Freedom Caucus, which i...   \n",
       "9   @RealDonaldTrump  'After seven horrible years of ObamaCare (skyr...   \n",
       "10  @RealDonaldTrump  'It was an honor to welcome so many truckers a...   \n",
       "11  @RealDonaldTrump  'We are taking action to #RepealANDReplace #Ob...   \n",
       "12  @RealDonaldTrump  'A great American, Kurt Cochran, was killed in...   \n",
       "13  @RealDonaldTrump  'Just watched the totally biased and fake news...   \n",
       "14  @RealDonaldTrump  'Spoke to U.K. Prime Minister Theresa May toda...   \n",
       "\n",
       "       fav location  \n",
       "0    86087     None  \n",
       "1    57682     None  \n",
       "2   110030     None  \n",
       "3    47659     None  \n",
       "4    98910     None  \n",
       "5    63726     None  \n",
       "6    85464     None  \n",
       "7    63885     None  \n",
       "8    59729     None  \n",
       "9    66039     None  \n",
       "10   75951     None  \n",
       "11   39760     None  \n",
       "12  115745     None  \n",
       "13   93772     None  \n",
       "14  117267     None  "
      ]
     },
     "execution_count": 20,
     "metadata": {},
     "output_type": "execute_result"
    }
   ],
   "source": [
    "poli_tweets.head(15)"
   ]
  },
  {
   "cell_type": "code",
   "execution_count": 21,
   "metadata": {
    "collapsed": false
   },
   "outputs": [],
   "source": [
    "tweets_by_politician = poli_tweets.groupby('handle')['text'].apply(lambda x: x.sum())"
   ]
  },
  {
   "cell_type": "code",
   "execution_count": 23,
   "metadata": {
    "collapsed": false
   },
   "outputs": [
    {
     "data": {
      "text/plain": [
       "handle\n",
       "@BernieSanders    'We now must take on a horrific Republican bud...\n",
       "Name: text, dtype: object"
      ]
     },
     "execution_count": 23,
     "metadata": {},
     "output_type": "execute_result"
    }
   ],
   "source": [
    "row1 = tweets_by_politician[0:1]\n",
    "row1"
   ]
  },
  {
   "cell_type": "code",
   "execution_count": 24,
   "metadata": {
    "collapsed": false
   },
   "outputs": [
    {
     "data": {
      "text/plain": [
       "20"
      ]
     },
     "execution_count": 24,
     "metadata": {},
     "output_type": "execute_result"
    }
   ],
   "source": [
    "len(tweets_by_politician)"
   ]
  },
  {
   "cell_type": "code",
   "execution_count": 26,
   "metadata": {
    "collapsed": false
   },
   "outputs": [],
   "source": [
    "output_file = \"tweets_by_politicians_excel.xlsx\"\n",
    "df3 = tweets_by_politician.to_frame()\n",
    "df3.to_excel(output_file, header=\"'handle', 'text'\")"
   ]
  },
  {
   "cell_type": "code",
   "execution_count": 28,
   "metadata": {
    "collapsed": false
   },
   "outputs": [
    {
     "data": {
      "text/html": [
       "<div>\n",
       "<table border=\"1\" class=\"dataframe\">\n",
       "  <thead>\n",
       "    <tr style=\"text-align: right;\">\n",
       "      <th></th>\n",
       "      <th>handle</th>\n",
       "      <th>text</th>\n",
       "      <th>party</th>\n",
       "    </tr>\n",
       "  </thead>\n",
       "  <tbody>\n",
       "    <tr>\n",
       "      <th>0</th>\n",
       "      <td>@BernieSanders</td>\n",
       "      <td>'We now must take on a horrific Republican bud...</td>\n",
       "      <td>D</td>\n",
       "    </tr>\n",
       "    <tr>\n",
       "      <th>1</th>\n",
       "      <td>@CoryBooker</td>\n",
       "      <td>'Honored to do so and so proud of them. https:...</td>\n",
       "      <td>D</td>\n",
       "    </tr>\n",
       "    <tr>\n",
       "      <th>2</th>\n",
       "      <td>@DrJillStein</td>\n",
       "      <td>'RT @CheriHonkala: Our democracy means nothing...</td>\n",
       "      <td>I</td>\n",
       "    </tr>\n",
       "    <tr>\n",
       "      <th>3</th>\n",
       "      <td>@GOPLeader</td>\n",
       "      <td>'RT @AIPAC: SPEAKING NOW: @GOPLeader &amp;amp; @Wh...</td>\n",
       "      <td>R</td>\n",
       "    </tr>\n",
       "    <tr>\n",
       "      <th>4</th>\n",
       "      <td>@GovGaryJohnson</td>\n",
       "      <td>'Watch LIVE from the #ElectionNight party- htt...</td>\n",
       "      <td>I</td>\n",
       "    </tr>\n",
       "    <tr>\n",
       "      <th>5</th>\n",
       "      <td>@HillaryClinton</td>\n",
       "      <td>'Today was a victory for all Americans. https:...</td>\n",
       "      <td>D</td>\n",
       "    </tr>\n",
       "    <tr>\n",
       "      <th>6</th>\n",
       "      <td>@LindseyGrahamSC</td>\n",
       "      <td>Graham: Left is 'going insane' after Trump's w...</td>\n",
       "      <td>R</td>\n",
       "    </tr>\n",
       "    <tr>\n",
       "      <th>7</th>\n",
       "      <td>@NancyPelosi</td>\n",
       "      <td>'If you are invested in the fight against #Tru...</td>\n",
       "      <td>D</td>\n",
       "    </tr>\n",
       "    <tr>\n",
       "      <th>8</th>\n",
       "      <td>@PattyMurray</td>\n",
       "      <td>'President Trump is trying to change the #Trum...</td>\n",
       "      <td>D</td>\n",
       "    </tr>\n",
       "    <tr>\n",
       "      <th>9</th>\n",
       "      <td>@RealDonaldTrump</td>\n",
       "      <td>'General Kelly is doing a great job at the bor...</td>\n",
       "      <td>R</td>\n",
       "    </tr>\n",
       "    <tr>\n",
       "      <th>10</th>\n",
       "      <td>@SenJohnMcCain</td>\n",
       "      <td>'Speaking on Senate floor shortly to urge my c...</td>\n",
       "      <td>R</td>\n",
       "    </tr>\n",
       "    <tr>\n",
       "      <th>11</th>\n",
       "      <td>@SenWarren</td>\n",
       "      <td>'Speaking on the Senate floor about how @realD...</td>\n",
       "      <td>D</td>\n",
       "    </tr>\n",
       "    <tr>\n",
       "      <th>12</th>\n",
       "      <td>@SenateMajLdr</td>\n",
       "      <td>'.@GorsuchFacts\\\\xa0is so well qualified for\\\\...</td>\n",
       "      <td>R</td>\n",
       "    </tr>\n",
       "    <tr>\n",
       "      <th>13</th>\n",
       "      <td>@SenatorDurbin</td>\n",
       "      <td>'We already know how to boost American innovat...</td>\n",
       "      <td>D</td>\n",
       "    </tr>\n",
       "    <tr>\n",
       "      <th>14</th>\n",
       "      <td>@SpeakerRyan</td>\n",
       "      <td>'Recent threats on Jewish Americans are vile a...</td>\n",
       "      <td>R</td>\n",
       "    </tr>\n",
       "    <tr>\n",
       "      <th>15</th>\n",
       "      <td>@TulsiGabbard</td>\n",
       "      <td>Refreshing start to #SundayMorning. When you c...</td>\n",
       "      <td>D</td>\n",
       "    </tr>\n",
       "    <tr>\n",
       "      <th>16</th>\n",
       "      <td>@chuckschumer</td>\n",
       "      <td>'RT @dscc: Hey @SpeakerRyan: here\\\\u2019s what...</td>\n",
       "      <td>D</td>\n",
       "    </tr>\n",
       "    <tr>\n",
       "      <th>17</th>\n",
       "      <td>@marcorubio</td>\n",
       "      <td>'ICYMI: https://t.co/2sGQ3dnNfI''Congratulatio...</td>\n",
       "      <td>R</td>\n",
       "    </tr>\n",
       "    <tr>\n",
       "      <th>18</th>\n",
       "      <td>@mike_pence</td>\n",
       "      <td>'Enjoyed seeing Rep. @EvanJenkinsWV while visi...</td>\n",
       "      <td>R</td>\n",
       "    </tr>\n",
       "    <tr>\n",
       "      <th>19</th>\n",
       "      <td>@tedcruz</td>\n",
       "      <td>'\"We can\\\\u2019t give up. Republicans promised...</td>\n",
       "      <td>R</td>\n",
       "    </tr>\n",
       "  </tbody>\n",
       "</table>\n",
       "</div>"
      ],
      "text/plain": [
       "              handle                                               text party\n",
       "0     @BernieSanders  'We now must take on a horrific Republican bud...     D\n",
       "1        @CoryBooker  'Honored to do so and so proud of them. https:...     D\n",
       "2       @DrJillStein  'RT @CheriHonkala: Our democracy means nothing...     I\n",
       "3         @GOPLeader  'RT @AIPAC: SPEAKING NOW: @GOPLeader &amp; @Wh...     R\n",
       "4    @GovGaryJohnson  'Watch LIVE from the #ElectionNight party- htt...     I\n",
       "5    @HillaryClinton  'Today was a victory for all Americans. https:...     D\n",
       "6   @LindseyGrahamSC  Graham: Left is 'going insane' after Trump's w...     R\n",
       "7       @NancyPelosi  'If you are invested in the fight against #Tru...     D\n",
       "8       @PattyMurray  'President Trump is trying to change the #Trum...     D\n",
       "9   @RealDonaldTrump  'General Kelly is doing a great job at the bor...     R\n",
       "10    @SenJohnMcCain  'Speaking on Senate floor shortly to urge my c...     R\n",
       "11        @SenWarren  'Speaking on the Senate floor about how @realD...     D\n",
       "12     @SenateMajLdr  '.@GorsuchFacts\\\\xa0is so well qualified for\\\\...     R\n",
       "13    @SenatorDurbin  'We already know how to boost American innovat...     D\n",
       "14      @SpeakerRyan  'Recent threats on Jewish Americans are vile a...     R\n",
       "15     @TulsiGabbard  Refreshing start to #SundayMorning. When you c...     D\n",
       "16     @chuckschumer  'RT @dscc: Hey @SpeakerRyan: here\\\\u2019s what...     D\n",
       "17       @marcorubio  'ICYMI: https://t.co/2sGQ3dnNfI''Congratulatio...     R\n",
       "18       @mike_pence  'Enjoyed seeing Rep. @EvanJenkinsWV while visi...     R\n",
       "19          @tedcruz  '\"We can\\\\u2019t give up. Republicans promised...     R"
      ]
     },
     "execution_count": 28,
     "metadata": {},
     "output_type": "execute_result"
    }
   ],
   "source": [
    "df = pd.read_csv(\"tweets_by_politicians_excel.csv\")\n",
    "df"
   ]
  },
  {
   "cell_type": "code",
   "execution_count": null,
   "metadata": {
    "collapsed": true
   },
   "outputs": [],
   "source": []
  }
 ],
 "metadata": {
  "anaconda-cloud": {},
  "kernelspec": {
   "display_name": "Python [conda root]",
   "language": "python",
   "name": "conda-root-py"
  },
  "language_info": {
   "codemirror_mode": {
    "name": "ipython",
    "version": 3
   },
   "file_extension": ".py",
   "mimetype": "text/x-python",
   "name": "python",
   "nbconvert_exporter": "python",
   "pygments_lexer": "ipython3",
   "version": "3.5.2"
  }
 },
 "nbformat": 4,
 "nbformat_minor": 2
}
