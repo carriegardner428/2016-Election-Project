{
 "cells": [
  {
   "cell_type": "markdown",
   "metadata": {
    "collapsed": false
   },
   "source": [
    "# Analyze & Build Model of Tweets to Predict Party Affiliation\n",
    "## Data collected during 2016 Election Debates"
   ]
  },
  {
   "cell_type": "code",
   "execution_count": 108,
   "metadata": {
    "collapsed": true
   },
   "outputs": [],
   "source": [
    "import pandas as pd\n",
    "import nltk\n",
    "import seaborn as sns\n",
    "import numpy as np\n",
    "\n",
    "from nltk.corpus import stopwords\n",
    "from sklearn.feature_extraction.text import TfidfVectorizer\n",
    "from sklearn.feature_extraction.text import CountVectorizer\n",
    "\n",
    "from sklearn.naive_bayes import MultinomialNB\n",
    "from sklearn.ensemble import RandomForestClassifier\n",
    "from sklearn.svm import LinearSVC\n",
    "\n",
    "from sklearn import tree\n",
    "from sklearn.decomposition import TruncatedSVD\n",
    "from sklearn.feature_selection import chi2\n",
    "from sklearn.feature_extraction.text import CountVectorizer\n",
    "from sklearn.discriminant_analysis import LinearDiscriminantAnalysis\n",
    "\n",
    "from sklearn.preprocessing import Normalizer\n",
    "from sklearn.pipeline import make_pipeline\n",
    "\n",
    "from sklearn.feature_selection import SelectFromModel\n",
    "from sklearn.feature_selection import SelectKBest\n",
    "\n",
    "from sklearn.cross_validation import StratifiedKFold\n",
    "from sklearn.metrics import precision_recall_fscore_support"
   ]
  },
  {
   "cell_type": "code",
   "execution_count": 78,
   "metadata": {
    "collapsed": true
   },
   "outputs": [],
   "source": [
    "tweets = pd.read_csv('tweets_debate1.csv')\n",
    "users  = pd.read_csv('users.csv')"
   ]
  },
  {
   "cell_type": "code",
   "execution_count": 79,
   "metadata": {
    "collapsed": false
   },
   "outputs": [
    {
     "data": {
      "text/html": [
       "<div>\n",
       "<table border=\"1\" class=\"dataframe\">\n",
       "  <thead>\n",
       "    <tr style=\"text-align: right;\">\n",
       "      <th></th>\n",
       "      <th>userID</th>\n",
       "      <th>text</th>\n",
       "      <th>created_at</th>\n",
       "      <th>favorite_count</th>\n",
       "      <th>followers_account</th>\n",
       "      <th>friends_count</th>\n",
       "      <th>location</th>\n",
       "    </tr>\n",
       "  </thead>\n",
       "  <tbody>\n",
       "    <tr>\n",
       "      <th>0</th>\n",
       "      <td>11344</td>\n",
       "      <td>Police start the presidential debate memes swi...</td>\n",
       "      <td>09/26/2016 21:00:00 EDT</td>\n",
       "      <td>1</td>\n",
       "      <td>123</td>\n",
       "      <td>96</td>\n",
       "      <td>East Point, GA</td>\n",
       "    </tr>\n",
       "    <tr>\n",
       "      <th>1</th>\n",
       "      <td>2061</td>\n",
       "      <td>RT @thereaIbanksy: become the most positive, e...</td>\n",
       "      <td>09/26/2016 21:00:03 EDT</td>\n",
       "      <td>481</td>\n",
       "      <td>116</td>\n",
       "      <td>244</td>\n",
       "      <td>Kansas City, MO USA</td>\n",
       "    </tr>\n",
       "    <tr>\n",
       "      <th>2</th>\n",
       "      <td>22644</td>\n",
       "      <td>This is gonna be a stressful ass week.</td>\n",
       "      <td>09/26/2016 21:00:03 EDT</td>\n",
       "      <td>9930</td>\n",
       "      <td>176</td>\n",
       "      <td>163</td>\n",
       "      <td>Dundee, Oregon</td>\n",
       "    </tr>\n",
       "    <tr>\n",
       "      <th>3</th>\n",
       "      <td>9694</td>\n",
       "      <td>RT @KevinBracken4: #serviceselfie #T2Trun NY M...</td>\n",
       "      <td>09/26/2016 21:00:12 EDT</td>\n",
       "      <td>8135</td>\n",
       "      <td>235</td>\n",
       "      <td>136</td>\n",
       "      <td>NY Metro</td>\n",
       "    </tr>\n",
       "    <tr>\n",
       "      <th>4</th>\n",
       "      <td>9087</td>\n",
       "      <td>RT @HillaryClinton: Let's do this. #DebateNigh...</td>\n",
       "      <td>09/26/2016 21:00:13 EDT</td>\n",
       "      <td>141</td>\n",
       "      <td>70</td>\n",
       "      <td>163</td>\n",
       "      <td>New York, NY</td>\n",
       "    </tr>\n",
       "  </tbody>\n",
       "</table>\n",
       "</div>"
      ],
      "text/plain": [
       "   userID                                               text  \\\n",
       "0   11344  Police start the presidential debate memes swi...   \n",
       "1    2061  RT @thereaIbanksy: become the most positive, e...   \n",
       "2   22644             This is gonna be a stressful ass week.   \n",
       "3    9694  RT @KevinBracken4: #serviceselfie #T2Trun NY M...   \n",
       "4    9087  RT @HillaryClinton: Let's do this. #DebateNigh...   \n",
       "\n",
       "                created_at  favorite_count  followers_account  friends_count  \\\n",
       "0  09/26/2016 21:00:00 EDT               1                123             96   \n",
       "1  09/26/2016 21:00:03 EDT             481                116            244   \n",
       "2  09/26/2016 21:00:03 EDT            9930                176            163   \n",
       "3  09/26/2016 21:00:12 EDT            8135                235            136   \n",
       "4  09/26/2016 21:00:13 EDT             141                 70            163   \n",
       "\n",
       "              location  \n",
       "0       East Point, GA  \n",
       "1  Kansas City, MO USA  \n",
       "2       Dundee, Oregon  \n",
       "3           NY Metro    \n",
       "4         New York, NY  "
      ]
     },
     "execution_count": 79,
     "metadata": {},
     "output_type": "execute_result"
    }
   ],
   "source": [
    "tweets.head(5)"
   ]
  },
  {
   "cell_type": "code",
   "execution_count": 80,
   "metadata": {
    "collapsed": false
   },
   "outputs": [
    {
     "data": {
      "text/html": [
       "<div>\n",
       "<table border=\"1\" class=\"dataframe\">\n",
       "  <thead>\n",
       "    <tr style=\"text-align: right;\">\n",
       "      <th></th>\n",
       "      <th>userID</th>\n",
       "      <th>state_code</th>\n",
       "      <th>party</th>\n",
       "    </tr>\n",
       "  </thead>\n",
       "  <tbody>\n",
       "    <tr>\n",
       "      <th>0</th>\n",
       "      <td>1</td>\n",
       "      <td>AK</td>\n",
       "      <td>D</td>\n",
       "    </tr>\n",
       "    <tr>\n",
       "      <th>1</th>\n",
       "      <td>2</td>\n",
       "      <td>AK</td>\n",
       "      <td>D</td>\n",
       "    </tr>\n",
       "    <tr>\n",
       "      <th>2</th>\n",
       "      <td>3</td>\n",
       "      <td>AL</td>\n",
       "      <td>NaN</td>\n",
       "    </tr>\n",
       "    <tr>\n",
       "      <th>3</th>\n",
       "      <td>4</td>\n",
       "      <td>AL</td>\n",
       "      <td>NaN</td>\n",
       "    </tr>\n",
       "    <tr>\n",
       "      <th>4</th>\n",
       "      <td>5</td>\n",
       "      <td>AL</td>\n",
       "      <td>NaN</td>\n",
       "    </tr>\n",
       "  </tbody>\n",
       "</table>\n",
       "</div>"
      ],
      "text/plain": [
       "   userID state_code party\n",
       "0       1         AK     D\n",
       "1       2         AK     D\n",
       "2       3         AL   NaN\n",
       "3       4         AL   NaN\n",
       "4       5         AL   NaN"
      ]
     },
     "execution_count": 80,
     "metadata": {},
     "output_type": "execute_result"
    }
   ],
   "source": [
    "users.head(5)"
   ]
  },
  {
   "cell_type": "markdown",
   "metadata": {},
   "source": [
    "### Merge datasets on userID to add party code"
   ]
  },
  {
   "cell_type": "code",
   "execution_count": 81,
   "metadata": {
    "collapsed": false
   },
   "outputs": [
    {
     "data": {
      "text/html": [
       "<div>\n",
       "<table border=\"1\" class=\"dataframe\">\n",
       "  <thead>\n",
       "    <tr style=\"text-align: right;\">\n",
       "      <th></th>\n",
       "      <th>userID</th>\n",
       "      <th>text</th>\n",
       "      <th>created_at</th>\n",
       "      <th>favorite_count</th>\n",
       "      <th>followers_account</th>\n",
       "      <th>friends_count</th>\n",
       "      <th>location</th>\n",
       "      <th>state_code</th>\n",
       "      <th>party</th>\n",
       "    </tr>\n",
       "  </thead>\n",
       "  <tbody>\n",
       "    <tr>\n",
       "      <th>0</th>\n",
       "      <td>11344</td>\n",
       "      <td>Police start the presidential debate memes swi...</td>\n",
       "      <td>09/26/2016 21:00:00 EDT</td>\n",
       "      <td>1</td>\n",
       "      <td>123</td>\n",
       "      <td>96</td>\n",
       "      <td>East Point, GA</td>\n",
       "      <td>GA</td>\n",
       "      <td>NaN</td>\n",
       "    </tr>\n",
       "    <tr>\n",
       "      <th>1</th>\n",
       "      <td>11344</td>\n",
       "      <td>Are these the new Pixel Phone and Chromecast c...</td>\n",
       "      <td>09/26/2016 22:30:00 EDT</td>\n",
       "      <td>1</td>\n",
       "      <td>123</td>\n",
       "      <td>96</td>\n",
       "      <td>East Point, GA</td>\n",
       "      <td>GA</td>\n",
       "      <td>NaN</td>\n",
       "    </tr>\n",
       "    <tr>\n",
       "      <th>2</th>\n",
       "      <td>11344</td>\n",
       "      <td>Are these the new Pixel Phone and Chromecast c...</td>\n",
       "      <td>09/26/2016 22:30:00 EDT</td>\n",
       "      <td>1</td>\n",
       "      <td>127</td>\n",
       "      <td>96</td>\n",
       "      <td>East Point, GA</td>\n",
       "      <td>GA</td>\n",
       "      <td>NaN</td>\n",
       "    </tr>\n",
       "    <tr>\n",
       "      <th>3</th>\n",
       "      <td>11344</td>\n",
       "      <td>Police start the presidential debate memes swi...</td>\n",
       "      <td>09/26/2016 21:00:00 EDT</td>\n",
       "      <td>1</td>\n",
       "      <td>127</td>\n",
       "      <td>96</td>\n",
       "      <td>East Point, GA</td>\n",
       "      <td>GA</td>\n",
       "      <td>NaN</td>\n",
       "    </tr>\n",
       "    <tr>\n",
       "      <th>4</th>\n",
       "      <td>2061</td>\n",
       "      <td>RT @thereaIbanksy: become the most positive, e...</td>\n",
       "      <td>09/26/2016 21:00:03 EDT</td>\n",
       "      <td>481</td>\n",
       "      <td>116</td>\n",
       "      <td>244</td>\n",
       "      <td>Kansas City, MO USA</td>\n",
       "      <td>MO</td>\n",
       "      <td>NaN</td>\n",
       "    </tr>\n",
       "  </tbody>\n",
       "</table>\n",
       "</div>"
      ],
      "text/plain": [
       "   userID                                               text  \\\n",
       "0   11344  Police start the presidential debate memes swi...   \n",
       "1   11344  Are these the new Pixel Phone and Chromecast c...   \n",
       "2   11344  Are these the new Pixel Phone and Chromecast c...   \n",
       "3   11344  Police start the presidential debate memes swi...   \n",
       "4    2061  RT @thereaIbanksy: become the most positive, e...   \n",
       "\n",
       "                created_at  favorite_count  followers_account  friends_count  \\\n",
       "0  09/26/2016 21:00:00 EDT               1                123             96   \n",
       "1  09/26/2016 22:30:00 EDT               1                123             96   \n",
       "2  09/26/2016 22:30:00 EDT               1                127             96   \n",
       "3  09/26/2016 21:00:00 EDT               1                127             96   \n",
       "4  09/26/2016 21:00:03 EDT             481                116            244   \n",
       "\n",
       "              location state_code party  \n",
       "0       East Point, GA         GA   NaN  \n",
       "1       East Point, GA         GA   NaN  \n",
       "2       East Point, GA         GA   NaN  \n",
       "3       East Point, GA         GA   NaN  \n",
       "4  Kansas City, MO USA         MO   NaN  "
      ]
     },
     "execution_count": 81,
     "metadata": {},
     "output_type": "execute_result"
    }
   ],
   "source": [
    "df = pd.merge(tweets, users, on='userID')\n",
    "df.head(5)"
   ]
  },
  {
   "cell_type": "code",
   "execution_count": 82,
   "metadata": {
    "collapsed": false
   },
   "outputs": [
    {
     "data": {
      "text/plain": [
       "(23247, 9)"
      ]
     },
     "execution_count": 82,
     "metadata": {},
     "output_type": "execute_result"
    }
   ],
   "source": [
    "df.shape"
   ]
  },
  {
   "cell_type": "markdown",
   "metadata": {},
   "source": [
    "### Drop NAs"
   ]
  },
  {
   "cell_type": "code",
   "execution_count": 83,
   "metadata": {
    "collapsed": false
   },
   "outputs": [
    {
     "data": {
      "text/html": [
       "<div>\n",
       "<table border=\"1\" class=\"dataframe\">\n",
       "  <thead>\n",
       "    <tr style=\"text-align: right;\">\n",
       "      <th></th>\n",
       "      <th>userID</th>\n",
       "      <th>text</th>\n",
       "      <th>created_at</th>\n",
       "      <th>favorite_count</th>\n",
       "      <th>followers_account</th>\n",
       "      <th>friends_count</th>\n",
       "      <th>location</th>\n",
       "      <th>state_code</th>\n",
       "      <th>party</th>\n",
       "    </tr>\n",
       "  </thead>\n",
       "  <tbody>\n",
       "    <tr>\n",
       "      <th>8</th>\n",
       "      <td>22644</td>\n",
       "      <td>This is gonna be a stressful ass week.</td>\n",
       "      <td>09/26/2016 21:00:03 EDT</td>\n",
       "      <td>9930</td>\n",
       "      <td>176</td>\n",
       "      <td>163</td>\n",
       "      <td>Dundee, Oregon</td>\n",
       "      <td>OR</td>\n",
       "      <td>I</td>\n",
       "    </tr>\n",
       "    <tr>\n",
       "      <th>9</th>\n",
       "      <td>22644</td>\n",
       "      <td>RT @HeyyItsMikayla: Who needs Comedy Central w...</td>\n",
       "      <td>09/26/2016 21:28:18 EDT</td>\n",
       "      <td>9930</td>\n",
       "      <td>177</td>\n",
       "      <td>163</td>\n",
       "      <td>Dundee, Oregon</td>\n",
       "      <td>OR</td>\n",
       "      <td>I</td>\n",
       "    </tr>\n",
       "    <tr>\n",
       "      <th>10</th>\n",
       "      <td>22644</td>\n",
       "      <td>RT @partyfessional: We're all gonna die #debat...</td>\n",
       "      <td>09/26/2016 21:40:33 EDT</td>\n",
       "      <td>9932</td>\n",
       "      <td>177</td>\n",
       "      <td>163</td>\n",
       "      <td>Dundee, Oregon</td>\n",
       "      <td>OR</td>\n",
       "      <td>I</td>\n",
       "    </tr>\n",
       "    <tr>\n",
       "      <th>11</th>\n",
       "      <td>22644</td>\n",
       "      <td>RT @Zedd: You're a fool. https://t.co/OTuLaFazjh</td>\n",
       "      <td>09/26/2016 21:40:52 EDT</td>\n",
       "      <td>9933</td>\n",
       "      <td>177</td>\n",
       "      <td>163</td>\n",
       "      <td>Dundee, Oregon</td>\n",
       "      <td>OR</td>\n",
       "      <td>I</td>\n",
       "    </tr>\n",
       "    <tr>\n",
       "      <th>12</th>\n",
       "      <td>22644</td>\n",
       "      <td>GOT HIS ASS BOI 🔥🔥🔥🔥 https://t.co/EMfnR7gmfg</td>\n",
       "      <td>09/26/2016 21:44:54 EDT</td>\n",
       "      <td>9935</td>\n",
       "      <td>177</td>\n",
       "      <td>163</td>\n",
       "      <td>Dundee, Oregon</td>\n",
       "      <td>OR</td>\n",
       "      <td>I</td>\n",
       "    </tr>\n",
       "  </tbody>\n",
       "</table>\n",
       "</div>"
      ],
      "text/plain": [
       "    userID                                               text  \\\n",
       "8    22644             This is gonna be a stressful ass week.   \n",
       "9    22644  RT @HeyyItsMikayla: Who needs Comedy Central w...   \n",
       "10   22644  RT @partyfessional: We're all gonna die #debat...   \n",
       "11   22644   RT @Zedd: You're a fool. https://t.co/OTuLaFazjh   \n",
       "12   22644       GOT HIS ASS BOI 🔥🔥🔥🔥 https://t.co/EMfnR7gmfg   \n",
       "\n",
       "                 created_at  favorite_count  followers_account  friends_count  \\\n",
       "8   09/26/2016 21:00:03 EDT            9930                176            163   \n",
       "9   09/26/2016 21:28:18 EDT            9930                177            163   \n",
       "10  09/26/2016 21:40:33 EDT            9932                177            163   \n",
       "11  09/26/2016 21:40:52 EDT            9933                177            163   \n",
       "12  09/26/2016 21:44:54 EDT            9935                177            163   \n",
       "\n",
       "          location state_code party  \n",
       "8   Dundee, Oregon         OR     I  \n",
       "9   Dundee, Oregon         OR     I  \n",
       "10  Dundee, Oregon         OR     I  \n",
       "11  Dundee, Oregon         OR     I  \n",
       "12  Dundee, Oregon         OR     I  "
      ]
     },
     "execution_count": 83,
     "metadata": {},
     "output_type": "execute_result"
    }
   ],
   "source": [
    "df = df.dropna()     # drop obs with NaN\n",
    "df.head(5)"
   ]
  },
  {
   "cell_type": "code",
   "execution_count": 84,
   "metadata": {
    "collapsed": false
   },
   "outputs": [
    {
     "data": {
      "text/plain": [
       "(14153, 9)"
      ]
     },
     "execution_count": 84,
     "metadata": {},
     "output_type": "execute_result"
    }
   ],
   "source": [
    "df.shape"
   ]
  },
  {
   "cell_type": "markdown",
   "metadata": {},
   "source": [
    "## Examine class Distribution"
   ]
  },
  {
   "cell_type": "code",
   "execution_count": 85,
   "metadata": {
    "collapsed": false
   },
   "outputs": [
    {
     "data": {
      "text/plain": [
       "<matplotlib.axes._subplots.AxesSubplot at 0x114f55438>"
      ]
     },
     "execution_count": 85,
     "metadata": {},
     "output_type": "execute_result"
    },
    {
     "data": {
      "image/png": "[encoded data removed]",
      "text/plain": [
       "<matplotlib.figure.Figure at 0x1188b52e8>"
      ]
     },
     "metadata": {},
     "output_type": "display_data"
    }
   ],
   "source": [
    "%matplotlib inline\n",
    "sns.countplot(x=\"party\", data=df)"
   ]
  },
  {
   "cell_type": "markdown",
   "metadata": {},
   "source": [
    "#### Heavily unbalanced class distribution.  Will randomly drop some democrats to even out the distribution"
   ]
  },
  {
   "cell_type": "code",
   "execution_count": 135,
   "metadata": {
    "collapsed": true
   },
   "outputs": [],
   "source": [
    "#### Normalize class distribution\n",
    "\n",
    "### Change O, G, and L labels to I\n",
    "# Map party classes to numerical labels\n",
    "## I: 1, D: 2, R: 3, O: 4, G: 5, L: 6\n",
    "def changeLabels(party):\n",
    "    if party == 'O':\n",
    "        party = 'I'\n",
    "    if party == 'G':\n",
    "        party = 'I'\n",
    "    if party == 'L':\n",
    "        party = 'I'\n",
    "    return party\n"
   ]
  },
  {
   "cell_type": "code",
   "execution_count": 87,
   "metadata": {
    "collapsed": false
   },
   "outputs": [
    {
     "data": {
      "text/plain": [
       "<matplotlib.axes._subplots.AxesSubplot at 0x119e82048>"
      ]
     },
     "execution_count": 87,
     "metadata": {},
     "output_type": "execute_result"
    },
    {
     "data": {
      "image/png": "[encoded data removed]",
      "text/plain": [
       "<matplotlib.figure.Figure at 0x119eb8978>"
      ]
     },
     "metadata": {},
     "output_type": "display_data"
    }
   ],
   "source": [
    "sns.countplot(x=\"party\", data=df)"
   ]
  },
  {
   "cell_type": "markdown",
   "metadata": {},
   "source": [
    "## Preprocess Data"
   ]
  },
  {
   "cell_type": "code",
   "execution_count": 88,
   "metadata": {
    "collapsed": true
   },
   "outputs": [],
   "source": [
    "def remove_stops(obs):\n",
    "    stops = set(stopwords.words('english'))\n",
    "    tokens = obs.apply(lambda x: [item for item in x if item not in stops])\n",
    "    return tokens\n",
    "\n",
    "def preprocess(df, remove_stopwords=True):\n",
    "    obs = df.text.str.lower()\n",
    "    obs = obs.str.strip()\n",
    "    obs = obs.str.strip('\"\"')\n",
    "    obs = obs.apply(nltk.word_tokenize)\n",
    "\n",
    "    if (remove_stopwords):\n",
    "        obs = remove_stops(obs)\n",
    "\n",
    "    obs = obs.str.join(' ')\n",
    "    df['X'] = obs\n",
    "    return obs\n",
    "\n",
    "# Map party classes to numerical labels\n",
    "## I: 1, D: 2, R: 3, O: 4, G: 5, L: 6\n",
    "def getLabels(party):\n",
    "    if party == 'I':\n",
    "        label = 1\n",
    "    if party == 'D':\n",
    "        label = 2\n",
    "    if party == 'R':\n",
    "        label = 3\n",
    "    if party == 'O':\n",
    "        label = 4\n",
    "    if party == 'G':\n",
    "        label = 5\n",
    "    if party == 'L':\n",
    "        label = 6\n",
    "    return label"
   ]
  },
  {
   "cell_type": "code",
   "execution_count": 136,
   "metadata": {
    "collapsed": false
   },
   "outputs": [
    {
     "data": {
      "text/html": [
       "<div>\n",
       "<table border=\"1\" class=\"dataframe\">\n",
       "  <thead>\n",
       "    <tr style=\"text-align: right;\">\n",
       "      <th></th>\n",
       "      <th>X</th>\n",
       "      <th>text</th>\n",
       "      <th>favorite_count</th>\n",
       "      <th>followers_account</th>\n",
       "      <th>friends_count</th>\n",
       "      <th>location</th>\n",
       "      <th>state_code</th>\n",
       "      <th>party</th>\n",
       "      <th>label</th>\n",
       "    </tr>\n",
       "  </thead>\n",
       "  <tbody>\n",
       "    <tr>\n",
       "      <th>0</th>\n",
       "      <td>this is gon na be a stressful ass week .</td>\n",
       "      <td>This is gonna be a stressful ass week.</td>\n",
       "      <td>9930</td>\n",
       "      <td>176</td>\n",
       "      <td>163</td>\n",
       "      <td>Dundee, Oregon</td>\n",
       "      <td>OR</td>\n",
       "      <td>I</td>\n",
       "      <td>1</td>\n",
       "    </tr>\n",
       "    <tr>\n",
       "      <th>1</th>\n",
       "      <td>rt @ heyyitsmikayla : who needs comedy central...</td>\n",
       "      <td>RT @HeyyItsMikayla: Who needs Comedy Central w...</td>\n",
       "      <td>9930</td>\n",
       "      <td>177</td>\n",
       "      <td>163</td>\n",
       "      <td>Dundee, Oregon</td>\n",
       "      <td>OR</td>\n",
       "      <td>I</td>\n",
       "      <td>1</td>\n",
       "    </tr>\n",
       "    <tr>\n",
       "      <th>2</th>\n",
       "      <td>rt @ partyfessional : we 're all gon na die # ...</td>\n",
       "      <td>RT @partyfessional: We're all gonna die #debat...</td>\n",
       "      <td>9932</td>\n",
       "      <td>177</td>\n",
       "      <td>163</td>\n",
       "      <td>Dundee, Oregon</td>\n",
       "      <td>OR</td>\n",
       "      <td>I</td>\n",
       "      <td>1</td>\n",
       "    </tr>\n",
       "    <tr>\n",
       "      <th>3</th>\n",
       "      <td>rt @ zedd : you 're a fool . https : //t.co/ot...</td>\n",
       "      <td>RT @Zedd: You're a fool. https://t.co/OTuLaFazjh</td>\n",
       "      <td>9933</td>\n",
       "      <td>177</td>\n",
       "      <td>163</td>\n",
       "      <td>Dundee, Oregon</td>\n",
       "      <td>OR</td>\n",
       "      <td>I</td>\n",
       "      <td>1</td>\n",
       "    </tr>\n",
       "    <tr>\n",
       "      <th>4</th>\n",
       "      <td>got his ass boi 🔥🔥🔥🔥 https : //t.co/emfnr7gmfg</td>\n",
       "      <td>GOT HIS ASS BOI 🔥🔥🔥🔥 https://t.co/EMfnR7gmfg</td>\n",
       "      <td>9935</td>\n",
       "      <td>177</td>\n",
       "      <td>163</td>\n",
       "      <td>Dundee, Oregon</td>\n",
       "      <td>OR</td>\n",
       "      <td>I</td>\n",
       "      <td>1</td>\n",
       "    </tr>\n",
       "  </tbody>\n",
       "</table>\n",
       "</div>"
      ],
      "text/plain": [
       "                                                   X  \\\n",
       "0           this is gon na be a stressful ass week .   \n",
       "1  rt @ heyyitsmikayla : who needs comedy central...   \n",
       "2  rt @ partyfessional : we 're all gon na die # ...   \n",
       "3  rt @ zedd : you 're a fool . https : //t.co/ot...   \n",
       "4     got his ass boi 🔥🔥🔥🔥 https : //t.co/emfnr7gmfg   \n",
       "\n",
       "                                                text  favorite_count  \\\n",
       "0             This is gonna be a stressful ass week.            9930   \n",
       "1  RT @HeyyItsMikayla: Who needs Comedy Central w...            9930   \n",
       "2  RT @partyfessional: We're all gonna die #debat...            9932   \n",
       "3   RT @Zedd: You're a fool. https://t.co/OTuLaFazjh            9933   \n",
       "4       GOT HIS ASS BOI 🔥🔥🔥🔥 https://t.co/EMfnR7gmfg            9935   \n",
       "\n",
       "   followers_account  friends_count        location state_code party  label  \n",
       "0                176            163  Dundee, Oregon         OR     I      1  \n",
       "1                177            163  Dundee, Oregon         OR     I      1  \n",
       "2                177            163  Dundee, Oregon         OR     I      1  \n",
       "3                177            163  Dundee, Oregon         OR     I      1  \n",
       "4                177            163  Dundee, Oregon         OR     I      1  "
      ]
     },
     "execution_count": 136,
     "metadata": {},
     "output_type": "execute_result"
    }
   ],
   "source": [
    "df['X'] = preprocess(df, remove_stopwords=False)\n",
    "# Reorder columns & drop created at\n",
    "df = df.loc[:, ['X', 'text', 'favorite_count', 'followers_account', 'friends_count', 'location', 'state_code', 'party']]\n",
    "df['label'] = df.party.apply(getLabels)\n",
    "\n",
    "df['party'] = df.party.apply(changeLabels)\n",
    "\n",
    "labels = df['party']\n",
    "df.head(5)"
   ]
  },
  {
   "cell_type": "code",
   "execution_count": 137,
   "metadata": {
    "collapsed": false
   },
   "outputs": [
    {
     "data": {
      "text/plain": [
       "<matplotlib.axes._subplots.AxesSubplot at 0x11ba2ddd8>"
      ]
     },
     "execution_count": 137,
     "metadata": {},
     "output_type": "execute_result"
    },
    {
     "data": {
      "image/png": "[encoded data removed]",
      "text/plain": [
       "<matplotlib.figure.Figure at 0x11ac08128>"
      ]
     },
     "metadata": {},
     "output_type": "display_data"
    }
   ],
   "source": [
    "sns.countplot(x=\"party\", data=df)"
   ]
  },
  {
   "cell_type": "markdown",
   "metadata": {},
   "source": [
    "## Create Text Features"
   ]
  },
  {
   "cell_type": "code",
   "execution_count": 90,
   "metadata": {
    "collapsed": true
   },
   "outputs": [],
   "source": [
    "### DTM\n",
    "def getDTM(features):\n",
    "    vect = CountVectorizer()\n",
    "    dtm = vect.fit_transform(features)\n",
    "    return dtm\n",
    "### DTM BI, Tri grams\n",
    "def featuresByBagOfWordsBiTri(features):\n",
    "    vect = CountVectorizer(ngram_range=(2, 3))\n",
    "    dtm = vect.fit_transform(features)\n",
    "    return dtm\n",
    "### TF-IDF\n",
    "def getDTMByTFIDF(features,nfeatures):\n",
    "    tfIdf_vectorizer = TfidfVectorizer(max_features=nfeatures)\n",
    "    dtm = tfIdf_vectorizer.fit_transform(features).toarray()\n",
    "    return dtm,tfIdf_vectorizer\n",
    "### Information Gain\n",
    "def featuresByInformationGain(features,labels):\n",
    "    treeCL = tree.DecisionTreeClassifier(criterion=\"entropy\")\n",
    "    treeCL = treeCL.fit(features,labels)\n",
    "    transformed_features = SelectFromModel(treeCL,prefit=True).transform(features)\n",
    "    return transformed_features\n",
    "### Chi Squared\n",
    "def featuresByChiSq(features,labels,nFeature=5000):\n",
    "    chi2_model = SelectKBest(chi2,k=nFeature)\n",
    "    dtm = chi2_model.fit_transform(features,labels)\n",
    "    return dtm,chi2_model\n",
    "### LSA\n",
    "def featuresByLSA(features,ncomponents=100):\n",
    "    svd = TruncatedSVD(n_components=ncomponents)\n",
    "    normalizer =  Normalizer(copy=False)\n",
    "    lsa = make_pipeline(svd, normalizer)\n",
    "    dtm_lsa = lsa.fit_transform(features)\n",
    "    return dtm_lsa\n",
    "### NMF"
   ]
  },
  {
   "cell_type": "markdown",
   "metadata": {
    "collapsed": true
   },
   "source": [
    "### Feature Selection"
   ]
  },
  {
   "cell_type": "code",
   "execution_count": 138,
   "metadata": {
    "collapsed": false
   },
   "outputs": [],
   "source": [
    "dtm = getDTM(df['X'])\n",
    "bitriDtm = featuresByBagOfWordsBiTri(df['X'])\n",
    "tfidfDtm, vect = getDTMByTFIDF(df['X'], None)\n",
    "\n",
    "# the Information Gain, Chi Squared, & LSA features selection need a DTM\n",
    "chisqDtm, chisqModel = featuresByChiSq(tfidfDtm,df['party'],2000)\n",
    "igDtm = featuresByInformationGain(tfidfDtm,df['party'])\n",
    "lsaDtm = featuresByLSA(dtm,100)"
   ]
  },
  {
   "cell_type": "markdown",
   "metadata": {},
   "source": [
    "## Model"
   ]
  },
  {
   "cell_type": "code",
   "execution_count": 139,
   "metadata": {
    "collapsed": true
   },
   "outputs": [],
   "source": [
    "# return model precision, recall, fscore\n",
    "def crossValidate(document_term_matrix,labels,classifier=\"SVM\",nfold=3):\n",
    "    clf = None\n",
    "    precision = []\n",
    "    recall = []\n",
    "    fscore = []\n",
    "    \n",
    "    if classifier == \"RF\":\n",
    "        clf = RandomForestClassifier()\n",
    "    elif classifier == \"NB\":\n",
    "        clf = MultinomialNB()\n",
    "    elif classifier == \"SVM\":\n",
    "        clf = LinearSVC()\n",
    "    \n",
    "    skf = StratifiedKFold(labels, n_folds=nfold)\n",
    "\n",
    "    for train_index, test_index in skf:\n",
    "        X_train, X_test = document_term_matrix[train_index], document_term_matrix[test_index]\n",
    "        y_train, y_test = labels[train_index], labels[test_index]\n",
    "        model = clf.fit(X_train, y_train)\n",
    "        y_pred = model.predict(X_test)\n",
    "        p,r,f,s = precision_recall_fscore_support(y_test, y_pred, average='weighted')\n",
    "        precision.append(p)\n",
    "        recall.append(r)\n",
    "        fscore.append(f)\n",
    "        \n",
    "    return np.mean(precision),np.mean(recall),np.mean(fscore)"
   ]
  },
  {
   "cell_type": "code",
   "execution_count": 174,
   "metadata": {
    "collapsed": false
   },
   "outputs": [
    {
     "data": {
      "text/html": [
       "<div>\n",
       "<table border=\"1\" class=\"dataframe\">\n",
       "  <thead>\n",
       "    <tr style=\"text-align: right;\">\n",
       "      <th></th>\n",
       "      <th>RF</th>\n",
       "      <th>SVM</th>\n",
       "    </tr>\n",
       "  </thead>\n",
       "  <tbody>\n",
       "    <tr>\n",
       "      <th>precision</th>\n",
       "      <td>NaN</td>\n",
       "      <td>NaN</td>\n",
       "    </tr>\n",
       "    <tr>\n",
       "      <th>recall</th>\n",
       "      <td>NaN</td>\n",
       "      <td>NaN</td>\n",
       "    </tr>\n",
       "    <tr>\n",
       "      <th>fscore</th>\n",
       "      <td>NaN</td>\n",
       "      <td>NaN</td>\n",
       "    </tr>\n",
       "  </tbody>\n",
       "</table>\n",
       "</div>"
      ],
      "text/plain": [
       "            RF  SVM\n",
       "precision  NaN  NaN\n",
       "recall     NaN  NaN\n",
       "fscore     NaN  NaN"
      ]
     },
     "execution_count": 174,
     "metadata": {},
     "output_type": "execute_result"
    }
   ],
   "source": [
    "models   = ['RF', 'SVM']\n",
    "features = ['chisqDtm', 'igDtm','lsaDtm']\n",
    "performance = ['precision', 'recall', 'fscore']\n",
    "\n",
    "RF_perf = pd.DataFrame(index=performance, columns=features)\n",
    "NB_perf = pd.DataFrame(index=performance, columns=features)\n",
    "SVM_perf = pd.DataFrame(index=performance, columns=features)\n",
    "\n",
    "lsa_perf = pd.DataFrame(index=performance, columns=models)\n",
    "lsa_perf"
   ]
  },
  {
   "cell_type": "markdown",
   "metadata": {},
   "source": [
    "#### Chisq DTM Performance"
   ]
  },
  {
   "cell_type": "code",
   "execution_count": 167,
   "metadata": {
    "collapsed": false
   },
   "outputs": [
    {
     "data": {
      "text/html": [
       "<div>\n",
       "<table border=\"1\" class=\"dataframe\">\n",
       "  <thead>\n",
       "    <tr style=\"text-align: right;\">\n",
       "      <th></th>\n",
       "      <th>RF</th>\n",
       "      <th>SVM</th>\n",
       "    </tr>\n",
       "  </thead>\n",
       "  <tbody>\n",
       "    <tr>\n",
       "      <th>precision</th>\n",
       "      <td>0.540309</td>\n",
       "      <td>0.608894</td>\n",
       "    </tr>\n",
       "    <tr>\n",
       "      <th>recall</th>\n",
       "      <td>0.586935</td>\n",
       "      <td>0.633642</td>\n",
       "    </tr>\n",
       "    <tr>\n",
       "      <th>fscore</th>\n",
       "      <td>0.540616</td>\n",
       "      <td>0.547956</td>\n",
       "    </tr>\n",
       "  </tbody>\n",
       "</table>\n",
       "</div>"
      ],
      "text/plain": [
       "                 RF       SVM\n",
       "precision  0.540309  0.608894\n",
       "recall     0.586935  0.633642\n",
       "fscore     0.540616  0.547956"
      ]
     },
     "execution_count": 167,
     "metadata": {},
     "output_type": "execute_result"
    }
   ],
   "source": [
    "for model in models:\n",
    "    prec, rec, fsc = crossValidate(chisqDtm, labels, model, 10)\n",
    "    lsa_perf.set_value('precision', model, prec)\n",
    "    lsa_perf.set_value('recall', model, rec)\n",
    "    lsa_perf.set_value('fscore', model, fsc)\n",
    "    \n",
    "lsa_perf"
   ]
  },
  {
   "cell_type": "markdown",
   "metadata": {},
   "source": [
    "#### LSA DTM Performance"
   ]
  },
  {
   "cell_type": "code",
   "execution_count": 165,
   "metadata": {
    "collapsed": false
   },
   "outputs": [
    {
     "name": "stderr",
     "output_type": "stream",
     "text": [
      "/Users/carrie/anaconda/lib/python3.5/site-packages/sklearn/metrics/classification.py:1113: UndefinedMetricWarning: Precision and F-score are ill-defined and being set to 0.0 in labels with no predicted samples.\n",
      "  'precision', 'predicted', average, warn_for)\n"
     ]
    },
    {
     "data": {
      "text/html": [
       "<div>\n",
       "<table border=\"1\" class=\"dataframe\">\n",
       "  <thead>\n",
       "    <tr style=\"text-align: right;\">\n",
       "      <th></th>\n",
       "      <th>RF</th>\n",
       "      <th>SVM</th>\n",
       "    </tr>\n",
       "  </thead>\n",
       "  <tbody>\n",
       "    <tr>\n",
       "      <th>precision</th>\n",
       "      <td>0.520857</td>\n",
       "      <td>0.445603</td>\n",
       "    </tr>\n",
       "    <tr>\n",
       "      <th>recall</th>\n",
       "      <td>0.578239</td>\n",
       "      <td>0.597753</td>\n",
       "    </tr>\n",
       "    <tr>\n",
       "      <th>fscore</th>\n",
       "      <td>0.528264</td>\n",
       "      <td>0.459066</td>\n",
       "    </tr>\n",
       "  </tbody>\n",
       "</table>\n",
       "</div>"
      ],
      "text/plain": [
       "                 RF       SVM\n",
       "precision  0.520857  0.445603\n",
       "recall     0.578239  0.597753\n",
       "fscore     0.528264  0.459066"
      ]
     },
     "execution_count": 165,
     "metadata": {},
     "output_type": "execute_result"
    }
   ],
   "source": [
    "for model in models:\n",
    "    prec, rec, fsc = crossValidate(lsaDtm, labels, model, 10)\n",
    "    lsa_perf.set_value('precision', model, prec)\n",
    "    lsa_perf.set_value('recall', model, rec)\n",
    "    lsa_perf.set_value('fscore', model, fsc)\n",
    "    \n",
    "lsa_perf"
   ]
  },
  {
   "cell_type": "markdown",
   "metadata": {},
   "source": [
    "#### Information Gain Model Performance"
   ]
  },
  {
   "cell_type": "code",
   "execution_count": 166,
   "metadata": {
    "collapsed": false
   },
   "outputs": [
    {
     "data": {
      "text/html": [
       "<div>\n",
       "<table border=\"1\" class=\"dataframe\">\n",
       "  <thead>\n",
       "    <tr style=\"text-align: right;\">\n",
       "      <th></th>\n",
       "      <th>RF</th>\n",
       "      <th>SVM</th>\n",
       "    </tr>\n",
       "  </thead>\n",
       "  <tbody>\n",
       "    <tr>\n",
       "      <th>precision</th>\n",
       "      <td>0.535682</td>\n",
       "      <td>0.498937</td>\n",
       "    </tr>\n",
       "    <tr>\n",
       "      <th>recall</th>\n",
       "      <td>0.59082</td>\n",
       "      <td>0.586162</td>\n",
       "    </tr>\n",
       "    <tr>\n",
       "      <th>fscore</th>\n",
       "      <td>0.539609</td>\n",
       "      <td>0.499727</td>\n",
       "    </tr>\n",
       "  </tbody>\n",
       "</table>\n",
       "</div>"
      ],
      "text/plain": [
       "                 RF       SVM\n",
       "precision  0.535682  0.498937\n",
       "recall      0.59082  0.586162\n",
       "fscore     0.539609  0.499727"
      ]
     },
     "execution_count": 166,
     "metadata": {},
     "output_type": "execute_result"
    }
   ],
   "source": [
    "for model in models:\n",
    "    prec, rec, fsc = crossValidate(igDtm, labels, model, 10)\n",
    "    lsa_perf.set_value('precision', model, prec)\n",
    "    lsa_perf.set_value('recall', model, rec)\n",
    "    lsa_perf.set_value('fscore', model, fsc)\n",
    "    \n",
    "lsa_perf"
   ]
  },
  {
   "cell_type": "code",
   "execution_count": null,
   "metadata": {
    "collapsed": true
   },
   "outputs": [],
   "source": [
    "#### TF-IDF Performance"
   ]
  },
  {
   "cell_type": "code",
   "execution_count": 175,
   "metadata": {
    "collapsed": false
   },
   "outputs": [
    {
     "data": {
      "text/html": [
       "<div>\n",
       "<table border=\"1\" class=\"dataframe\">\n",
       "  <thead>\n",
       "    <tr style=\"text-align: right;\">\n",
       "      <th></th>\n",
       "      <th>RF</th>\n",
       "      <th>SVM</th>\n",
       "    </tr>\n",
       "  </thead>\n",
       "  <tbody>\n",
       "    <tr>\n",
       "      <th>precision</th>\n",
       "      <td>0.540984</td>\n",
       "      <td>0.509455</td>\n",
       "    </tr>\n",
       "    <tr>\n",
       "      <th>recall</th>\n",
       "      <td>0.606786</td>\n",
       "      <td>0.558178</td>\n",
       "    </tr>\n",
       "    <tr>\n",
       "      <th>fscore</th>\n",
       "      <td>0.530949</td>\n",
       "      <td>0.520993</td>\n",
       "    </tr>\n",
       "  </tbody>\n",
       "</table>\n",
       "</div>"
      ],
      "text/plain": [
       "                 RF       SVM\n",
       "precision  0.540984  0.509455\n",
       "recall     0.606786  0.558178\n",
       "fscore     0.530949  0.520993"
      ]
     },
     "execution_count": 175,
     "metadata": {},
     "output_type": "execute_result"
    }
   ],
   "source": [
    "for model in models:\n",
    "    prec, rec, fsc = crossValidate(tfidfDtm, labels, model, 10)\n",
    "    lsa_perf.set_value('precision', model, prec)\n",
    "    lsa_perf.set_value('recall', model, rec)\n",
    "    lsa_perf.set_value('fscore', model, fsc)\n",
    "    \n",
    "lsa_perf"
   ]
  },
  {
   "cell_type": "code",
   "execution_count": 103,
   "metadata": {
    "collapsed": false
   },
   "outputs": [
    {
     "data": {
      "text/html": [
       "<div>\n",
       "<table border=\"1\" class=\"dataframe\">\n",
       "  <thead>\n",
       "    <tr style=\"text-align: right;\">\n",
       "      <th></th>\n",
       "      <th>X</th>\n",
       "      <th>text</th>\n",
       "      <th>favorite_count</th>\n",
       "      <th>followers_account</th>\n",
       "      <th>friends_count</th>\n",
       "      <th>location</th>\n",
       "      <th>state_code</th>\n",
       "      <th>party</th>\n",
       "      <th>label</th>\n",
       "    </tr>\n",
       "  </thead>\n",
       "  <tbody>\n",
       "    <tr>\n",
       "      <th>0</th>\n",
       "      <td>this is gon na be a stressful ass week .</td>\n",
       "      <td>This is gonna be a stressful ass week.</td>\n",
       "      <td>9930</td>\n",
       "      <td>176</td>\n",
       "      <td>163</td>\n",
       "      <td>Dundee, Oregon</td>\n",
       "      <td>OR</td>\n",
       "      <td>I</td>\n",
       "      <td>1</td>\n",
       "    </tr>\n",
       "    <tr>\n",
       "      <th>1</th>\n",
       "      <td>rt @ heyyitsmikayla : who needs comedy central...</td>\n",
       "      <td>RT @HeyyItsMikayla: Who needs Comedy Central w...</td>\n",
       "      <td>9930</td>\n",
       "      <td>177</td>\n",
       "      <td>163</td>\n",
       "      <td>Dundee, Oregon</td>\n",
       "      <td>OR</td>\n",
       "      <td>I</td>\n",
       "      <td>1</td>\n",
       "    </tr>\n",
       "    <tr>\n",
       "      <th>2</th>\n",
       "      <td>rt @ partyfessional : we 're all gon na die # ...</td>\n",
       "      <td>RT @partyfessional: We're all gonna die #debat...</td>\n",
       "      <td>9932</td>\n",
       "      <td>177</td>\n",
       "      <td>163</td>\n",
       "      <td>Dundee, Oregon</td>\n",
       "      <td>OR</td>\n",
       "      <td>I</td>\n",
       "      <td>1</td>\n",
       "    </tr>\n",
       "  </tbody>\n",
       "</table>\n",
       "</div>"
      ],
      "text/plain": [
       "                                                   X  \\\n",
       "0           this is gon na be a stressful ass week .   \n",
       "1  rt @ heyyitsmikayla : who needs comedy central...   \n",
       "2  rt @ partyfessional : we 're all gon na die # ...   \n",
       "\n",
       "                                                text  favorite_count  \\\n",
       "0             This is gonna be a stressful ass week.            9930   \n",
       "1  RT @HeyyItsMikayla: Who needs Comedy Central w...            9930   \n",
       "2  RT @partyfessional: We're all gonna die #debat...            9932   \n",
       "\n",
       "   followers_account  friends_count        location state_code party  label  \n",
       "0                176            163  Dundee, Oregon         OR     I      1  \n",
       "1                177            163  Dundee, Oregon         OR     I      1  \n",
       "2                177            163  Dundee, Oregon         OR     I      1  "
      ]
     },
     "execution_count": 103,
     "metadata": {},
     "output_type": "execute_result"
    }
   ],
   "source": [
    "df['X'] = preprocess(df, remove_stopwords=False)\n",
    "labels  = df['party']\n",
    "df.head(3)"
   ]
  },
  {
   "cell_type": "code",
   "execution_count": 105,
   "metadata": {
    "collapsed": false
   },
   "outputs": [],
   "source": [
    "dtm, vect = getDTMByTFIDF(df['X'], None)"
   ]
  },
  {
   "cell_type": "code",
   "execution_count": 106,
   "metadata": {
    "collapsed": true
   },
   "outputs": [],
   "source": [
    "chisqDtm, chisqModel = featuresByChiSq(dtm,labels,2000)"
   ]
  },
  {
   "cell_type": "code",
   "execution_count": 109,
   "metadata": {
    "collapsed": false
   },
   "outputs": [
    {
     "name": "stderr",
     "output_type": "stream",
     "text": [
      "/Users/carrie/anaconda/lib/python3.5/site-packages/sklearn/cross_validation.py:552: Warning: The least populated class in y has only 8 members, which is too few. The minimum number of labels for any class cannot be less than n_folds=10.\n",
      "  % (min_labels, self.n_folds)), Warning)\n",
      "/Users/carrie/anaconda/lib/python3.5/site-packages/sklearn/metrics/classification.py:1113: UndefinedMetricWarning: Precision and F-score are ill-defined and being set to 0.0 in labels with no predicted samples.\n",
      "  'precision', 'predicted', average, warn_for)\n"
     ]
    },
    {
     "name": "stdout",
     "output_type": "stream",
     "text": [
      "ChiSq Features:\n",
      "0.597383498192 0.635888129668 0.55314084808\n"
     ]
    }
   ],
   "source": [
    "precision, recall, fscore = crossValidate(chisqDtm,labels,\"SVM\",10)\n",
    "print(\"ChiSq Features:\")\n",
    "print(str(precision), str(recall), str(fscore))"
   ]
  },
  {
   "cell_type": "markdown",
   "metadata": {
    "collapsed": true
   },
   "source": [
    "# Word Cloud"
   ]
  },
  {
   "cell_type": "code",
   "execution_count": null,
   "metadata": {
    "collapsed": true
   },
   "outputs": [],
   "source": [
    "from wordcloud import WordCloud, STOPWORDS\n",
    "import PIL\n",
    "from PIL import Image\n",
    "import matplotlib.pyplot as plt\n",
    "\n",
    "'''\n",
    "Trump Twitter Word Cloud\n",
    "Reference: https://github.com/amueller/word_cloud/blob/master/examples/simple.py\n",
    "'''\n",
    "\n",
    "\n",
    "\n",
    "def grey_color_func(word, font_size, position, orientation, random_state=None, **kwargs):\n",
    "    return \"hsl(0, 0%%, %d%%)\" % random.randint(60, 100)\n",
    "\n",
    "def strip_links(text):\n",
    "    link_regex    = re.compile('((https?):((//)|(\\\\\\\\))+([\\w\\d:#@%/;$()~_?\\+-=\\\\\\.&](#!)?)*)', re.DOTALL)\n",
    "    links         = re.findall(link_regex, text)\n",
    "    for link in links:\n",
    "        text = text.replace(link[0], ', ')\n",
    "    return text\n",
    "\n",
    "\n",
    "\n",
    "# mask\n",
    "mask = np.array(Image.open('img/trumpmask.png'))\n",
    "\n",
    "# Generate a word cloud image\n",
    "twittertrumpcloud = WordCloud(mask=mask, max_words=2000, stopwords=stopwords, margin=10,\n",
    "               random_state=1).generate(speech)\n",
    "\n",
    "\n",
    "# Get top 1000 words\n",
    "vectorizer = TfidfVectorizer()\n",
    "X = vectorizer.fit_transform(lectures)\n",
    "indices = np.argsort(vectorizer.idf_)[::-1]\n",
    "features = vectorizer.get_feature_names()\n",
    "top_n = 2\n",
    "top_features = [features[i] for i in indices[:top_n]]\n",
    "print top_features\n",
    "\n",
    "\n",
    "\n",
    "\n",
    "twittertrumpcloud.generate(speech)\n",
    "\n",
    "# store to file\n",
    "twittertrumpcloud.to_file(\"twittertrumpcloud.png\")\n",
    "# store default colored image\n",
    "\n",
    "default_colors = twittertrumpcloud.to_array()\n",
    "plt.title(\"Trump Twitter Word Cloud\")\n",
    "plt.imshow(twittertrumpcloud.recolor(color_func=grey_color_func, random_state=3))\n",
    "twittertrumpcloud.to_file(\"twitterttrumpcloud.png\")\n",
    "\n",
    "plt.imshow(twittertrumpcloud)\n",
    "plt.axis(\"off\")\n",
    "plt.figure()\n",
    "plt.imshow(alice_mask, cmap=plt.cm.gray)\n",
    "plt.axis(\"off\")\n",
    "plt.show()\n",
    "\n",
    "\n"
   ]
  }
 ],
 "metadata": {
  "anaconda-cloud": {},
  "kernelspec": {
   "display_name": "Python 3",
   "language": "python",
   "name": "python3"
  },
  "language_info": {
   "codemirror_mode": {
    "name": "ipython",
    "version": 3
   },
   "file_extension": ".py",
   "mimetype": "text/x-python",
   "name": "python",
   "nbconvert_exporter": "python",
   "pygments_lexer": "ipython3",
   "version": "3.5.0"
  }
 },
 "nbformat": 4,
 "nbformat_minor": 1
}
